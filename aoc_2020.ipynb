{
 "cells": [
  {
   "cell_type": "markdown",
   "metadata": {},
   "source": [
    "# Advent of code 2020\n",
    "\n",
    "## day 1\n",
    "\n",
    "https://adventofcode.com/2020/day/1\n",
    "\n",
    "part 1"
   ]
  },
  {
   "cell_type": "code",
   "execution_count": 2,
   "metadata": {},
   "outputs": [],
   "source": [
    "import numpy as np"
   ]
  },
  {
   "cell_type": "code",
   "execution_count": 5,
   "metadata": {},
   "outputs": [],
   "source": [
    "data = np.loadtxt('input_01.txt',dtype = 'i')"
   ]
  },
  {
   "cell_type": "code",
   "execution_count": 6,
   "metadata": {},
   "outputs": [
    {
     "data": {
      "text/plain": [
       "1227"
      ]
     },
     "execution_count": 6,
     "metadata": {},
     "output_type": "execute_result"
    }
   ],
   "source": [
    "data[0]"
   ]
  },
  {
   "cell_type": "code",
   "execution_count": 15,
   "metadata": {},
   "outputs": [],
   "source": [
    "XX,YY = np.meshgrid(data,data)\n",
    "ZZ = XX+YY"
   ]
  },
  {
   "cell_type": "code",
   "execution_count": 18,
   "metadata": {},
   "outputs": [],
   "source": [
    "ind = np.where(ZZ == 2020)[0]"
   ]
  },
  {
   "cell_type": "code",
   "execution_count": 19,
   "metadata": {},
   "outputs": [
    {
     "data": {
      "text/plain": [
       "1010884"
      ]
     },
     "execution_count": 19,
     "metadata": {},
     "output_type": "execute_result"
    }
   ],
   "source": [
    "answer = data[ind[0]]*data[ind[1]]\n",
    "print[answer]"
   ]
  },
  {
   "cell_type": "markdown",
   "metadata": {},
   "source": [
    "part 2"
   ]
  },
  {
   "cell_type": "code",
   "execution_count": 21,
   "metadata": {},
   "outputs": [],
   "source": [
    "XX,YY,WW = np.meshgrid(data,data,data)\n",
    "ZZ = XX+YY+WW"
   ]
  },
  {
   "cell_type": "code",
   "execution_count": 26,
   "metadata": {},
   "outputs": [
    {
     "data": {
      "text/plain": [
       "(array([55, 55, 78, 78, 88, 88]),\n",
       " array([78, 88, 55, 88, 55, 78]),\n",
       " array([88, 78, 88, 55, 78, 55]))"
      ]
     },
     "execution_count": 26,
     "metadata": {},
     "output_type": "execute_result"
    }
   ],
   "source": [
    "np.where(ZZ == 2020)"
   ]
  },
  {
   "cell_type": "code",
   "execution_count": 27,
   "metadata": {},
   "outputs": [],
   "source": [
    "ind= [55,78,88]"
   ]
  },
  {
   "cell_type": "code",
   "execution_count": 30,
   "metadata": {},
   "outputs": [],
   "source": [
    "answer = data[ind[0]]*data[ind[1]]*data[ind[2]]"
   ]
  },
  {
   "cell_type": "code",
   "execution_count": 31,
   "metadata": {},
   "outputs": [
    {
     "name": "stdout",
     "output_type": "stream",
     "text": [
      "253928438\n"
     ]
    }
   ],
   "source": [
    "print(answer)"
   ]
  },
  {
   "cell_type": "markdown",
   "metadata": {},
   "source": [
    "# day 2\n",
    "\n",
    "https://adventofcode.com/2020/day/2"
   ]
  },
  {
   "cell_type": "code",
   "execution_count": 8,
   "metadata": {},
   "outputs": [],
   "source": [
    "import numpy as np\n",
    "import pandas as pd\n",
    "import re"
   ]
  },
  {
   "cell_type": "code",
   "execution_count": 6,
   "metadata": {},
   "outputs": [
    {
     "name": "stderr",
     "output_type": "stream",
     "text": [
      "<ipython-input-6-d139f05257f6>:1: ParserWarning: Falling back to the 'python' engine because the 'c' engine does not support regex separators (separators > 1 char and different from '\\s+' are interpreted as regex); you can avoid this warning by specifying engine='python'.\n",
      "  data = pd.read_csv('input_02.txt',sep=' |:|-',names = ['n_min','n_max','letter','unused','password'])\n"
     ]
    }
   ],
   "source": [
    "data = pd.read_csv('input_02.txt',sep=' |:|-',names = ['n_min','n_max','letter','unused','password'])"
   ]
  },
  {
   "cell_type": "code",
   "execution_count": 79,
   "metadata": {},
   "outputs": [],
   "source": [
    "data.drop('unused',axis = 1,inplace=True)\n",
    "# data.drop('pw_valid',axis = 1,inplace=True)"
   ]
  },
  {
   "cell_type": "code",
   "execution_count": 80,
   "metadata": {},
   "outputs": [],
   "source": [
    "def check_pw_1(n_min,n_max,letter,password):\n",
    "    p = re.compile(letter)\n",
    "    n = p.findall(password)\n",
    "    return (len(n)>=n_min)&(len(n)<=n_max)"
   ]
  },
  {
   "cell_type": "code",
   "execution_count": 81,
   "metadata": {},
   "outputs": [],
   "source": [
    "data['pw_valid_1'] = False"
   ]
  },
  {
   "cell_type": "code",
   "execution_count": 82,
   "metadata": {},
   "outputs": [],
   "source": [
    "for k in data.index:\n",
    "    data.loc[k,'pw_valid_1']= check_pw_1(data.n_min[k],data.n_max[k],data.letter[k],data.password[k])"
   ]
  },
  {
   "cell_type": "code",
   "execution_count": 83,
   "metadata": {},
   "outputs": [
    {
     "data": {
      "text/html": [
       "<div>\n",
       "<style scoped>\n",
       "    .dataframe tbody tr th:only-of-type {\n",
       "        vertical-align: middle;\n",
       "    }\n",
       "\n",
       "    .dataframe tbody tr th {\n",
       "        vertical-align: top;\n",
       "    }\n",
       "\n",
       "    .dataframe thead th {\n",
       "        text-align: right;\n",
       "    }\n",
       "</style>\n",
       "<table border=\"1\" class=\"dataframe\">\n",
       "  <thead>\n",
       "    <tr style=\"text-align: right;\">\n",
       "      <th></th>\n",
       "      <th>n_min</th>\n",
       "      <th>n_max</th>\n",
       "      <th>letter</th>\n",
       "      <th>password</th>\n",
       "      <th>pw_valid_1</th>\n",
       "    </tr>\n",
       "  </thead>\n",
       "  <tbody>\n",
       "    <tr>\n",
       "      <th>963</th>\n",
       "      <td>10</td>\n",
       "      <td>12</td>\n",
       "      <td>t</td>\n",
       "      <td>tttqxrtttttvjrc</td>\n",
       "      <td>False</td>\n",
       "    </tr>\n",
       "    <tr>\n",
       "      <th>101</th>\n",
       "      <td>5</td>\n",
       "      <td>9</td>\n",
       "      <td>p</td>\n",
       "      <td>kppppcppnqpppqpzpppw</td>\n",
       "      <td>False</td>\n",
       "    </tr>\n",
       "    <tr>\n",
       "      <th>919</th>\n",
       "      <td>12</td>\n",
       "      <td>14</td>\n",
       "      <td>d</td>\n",
       "      <td>kvbwfkjzdcpcjd</td>\n",
       "      <td>False</td>\n",
       "    </tr>\n",
       "    <tr>\n",
       "      <th>436</th>\n",
       "      <td>2</td>\n",
       "      <td>3</td>\n",
       "      <td>x</td>\n",
       "      <td>xmxz</td>\n",
       "      <td>True</td>\n",
       "    </tr>\n",
       "    <tr>\n",
       "      <th>72</th>\n",
       "      <td>5</td>\n",
       "      <td>10</td>\n",
       "      <td>p</td>\n",
       "      <td>ppgfpzczphpp</td>\n",
       "      <td>True</td>\n",
       "    </tr>\n",
       "  </tbody>\n",
       "</table>\n",
       "</div>"
      ],
      "text/plain": [
       "     n_min  n_max letter              password  pw_valid_1\n",
       "963     10     12      t       tttqxrtttttvjrc       False\n",
       "101      5      9      p  kppppcppnqpppqpzpppw       False\n",
       "919     12     14      d        kvbwfkjzdcpcjd       False\n",
       "436      2      3      x                  xmxz        True\n",
       "72       5     10      p          ppgfpzczphpp        True"
      ]
     },
     "execution_count": 83,
     "metadata": {},
     "output_type": "execute_result"
    }
   ],
   "source": [
    "data.sample(5)"
   ]
  },
  {
   "cell_type": "code",
   "execution_count": 85,
   "metadata": {},
   "outputs": [
    {
     "name": "stdout",
     "output_type": "stream",
     "text": [
      "474\n"
     ]
    }
   ],
   "source": [
    "answer = data.pw_valid_1.sum()\n",
    "print(answer)"
   ]
  },
  {
   "cell_type": "markdown",
   "metadata": {},
   "source": [
    "part 2"
   ]
  },
  {
   "cell_type": "code",
   "execution_count": 138,
   "metadata": {},
   "outputs": [],
   "source": [
    "data['pw_valid_2'] = False"
   ]
  },
  {
   "cell_type": "code",
   "execution_count": 144,
   "metadata": {},
   "outputs": [],
   "source": [
    "def check_pw_2(n_min,n_max,letter,password):\n",
    "#     p = re.compile('.{%i}'%(n_min-1)+letter+'.{%i}'%(n_max-n_min-1)+'[^%s]'%(letter))\n",
    "    p_1 = re.compile('.{%i}%s'%(n_min-1,letter))\n",
    "    p_2 = re.compile('.{%i}%s'%(n_max-1,letter))\n",
    "    n_1 = p_1.match(password)\n",
    "    n_2 = p_2.match(password)\n",
    "    return bool(n_1)^bool(n_2)"
   ]
  },
  {
   "cell_type": "code",
   "execution_count": 145,
   "metadata": {},
   "outputs": [],
   "source": [
    "for k in data.index:\n",
    "    data.loc[k,'pw_valid_2']= check_pw_2(data.n_min[k],data.n_max[k],data.letter[k],data.password[k])"
   ]
  },
  {
   "cell_type": "code",
   "execution_count": 146,
   "metadata": {},
   "outputs": [
    {
     "data": {
      "text/html": [
       "<div>\n",
       "<style scoped>\n",
       "    .dataframe tbody tr th:only-of-type {\n",
       "        vertical-align: middle;\n",
       "    }\n",
       "\n",
       "    .dataframe tbody tr th {\n",
       "        vertical-align: top;\n",
       "    }\n",
       "\n",
       "    .dataframe thead th {\n",
       "        text-align: right;\n",
       "    }\n",
       "</style>\n",
       "<table border=\"1\" class=\"dataframe\">\n",
       "  <thead>\n",
       "    <tr style=\"text-align: right;\">\n",
       "      <th></th>\n",
       "      <th>n_min</th>\n",
       "      <th>n_max</th>\n",
       "      <th>letter</th>\n",
       "      <th>password</th>\n",
       "      <th>pw_valid_1</th>\n",
       "      <th>pw_valid_2</th>\n",
       "    </tr>\n",
       "  </thead>\n",
       "  <tbody>\n",
       "    <tr>\n",
       "      <th>960</th>\n",
       "      <td>1</td>\n",
       "      <td>4</td>\n",
       "      <td>v</td>\n",
       "      <td>vfvvvc</td>\n",
       "      <td>True</td>\n",
       "      <td>False</td>\n",
       "    </tr>\n",
       "    <tr>\n",
       "      <th>534</th>\n",
       "      <td>6</td>\n",
       "      <td>7</td>\n",
       "      <td>z</td>\n",
       "      <td>pfnzzzzzwjzxg</td>\n",
       "      <td>True</td>\n",
       "      <td>False</td>\n",
       "    </tr>\n",
       "    <tr>\n",
       "      <th>4</th>\n",
       "      <td>7</td>\n",
       "      <td>8</td>\n",
       "      <td>k</td>\n",
       "      <td>rkkkknkw</td>\n",
       "      <td>False</td>\n",
       "      <td>True</td>\n",
       "    </tr>\n",
       "    <tr>\n",
       "      <th>784</th>\n",
       "      <td>9</td>\n",
       "      <td>20</td>\n",
       "      <td>g</td>\n",
       "      <td>ggggghgggggcggggglgq</td>\n",
       "      <td>True</td>\n",
       "      <td>True</td>\n",
       "    </tr>\n",
       "    <tr>\n",
       "      <th>651</th>\n",
       "      <td>4</td>\n",
       "      <td>5</td>\n",
       "      <td>c</td>\n",
       "      <td>rzccmcc</td>\n",
       "      <td>True</td>\n",
       "      <td>True</td>\n",
       "    </tr>\n",
       "  </tbody>\n",
       "</table>\n",
       "</div>"
      ],
      "text/plain": [
       "     n_min  n_max letter              password  pw_valid_1  pw_valid_2\n",
       "960      1      4      v                vfvvvc        True       False\n",
       "534      6      7      z         pfnzzzzzwjzxg        True       False\n",
       "4        7      8      k              rkkkknkw       False        True\n",
       "784      9     20      g  ggggghgggggcggggglgq        True        True\n",
       "651      4      5      c               rzccmcc        True        True"
      ]
     },
     "execution_count": 146,
     "metadata": {},
     "output_type": "execute_result"
    }
   ],
   "source": [
    "data.sample(5)"
   ]
  },
  {
   "cell_type": "code",
   "execution_count": 147,
   "metadata": {},
   "outputs": [
    {
     "name": "stdout",
     "output_type": "stream",
     "text": [
      "745\n"
     ]
    }
   ],
   "source": [
    "answer_2 = data.pw_valid_2.sum()\n",
    "print(answer_2)"
   ]
  },
  {
   "cell_type": "markdown",
   "metadata": {},
   "source": [
    "## day 3\n",
    "\n",
    "https://adventofcode.com/2020/day/3"
   ]
  },
  {
   "cell_type": "code",
   "execution_count": 1,
   "metadata": {},
   "outputs": [],
   "source": [
    "import numpy as np\n"
   ]
  },
  {
   "cell_type": "code",
   "execution_count": 6,
   "metadata": {},
   "outputs": [],
   "source": [
    "text_file = open('input_03.txt','r')"
   ]
  },
  {
   "cell_type": "code",
   "execution_count": 7,
   "metadata": {},
   "outputs": [],
   "source": [
    "data = text_file.read()"
   ]
  },
  {
   "cell_type": "code",
   "execution_count": 10,
   "metadata": {},
   "outputs": [],
   "source": [
    "data = data.split('\\n')"
   ]
  },
  {
   "cell_type": "code",
   "execution_count": 22,
   "metadata": {},
   "outputs": [],
   "source": [
    "periodicity = len(data[0])\n",
    "right = [3]\n",
    "down = [1]"
   ]
  },
  {
   "cell_type": "code",
   "execution_count": 31,
   "metadata": {},
   "outputs": [
    {
     "name": "stdout",
     "output_type": "stream",
     "text": [
      "164\n"
     ]
    }
   ],
   "source": [
    "n_trees = 0\n",
    "k = 0\n",
    "while k < (len(data)-1):\n",
    "    n_trees += data[k*down[0]][(right[0]*k)%periodicity] == '#'\n",
    "    k+=1\n",
    "\n",
    "print(n_trees)    \n"
   ]
  },
  {
   "cell_type": "markdown",
   "metadata": {},
   "source": [
    "part 2"
   ]
  },
  {
   "cell_type": "code",
   "execution_count": 32,
   "metadata": {},
   "outputs": [],
   "source": [
    "periodicity = len(data[0])\n",
    "right = [1,3,5,7,1]\n",
    "down = [1,1,1,1,2]\n"
   ]
  },
  {
   "cell_type": "code",
   "execution_count": 38,
   "metadata": {},
   "outputs": [
    {
     "name": "stdout",
     "output_type": "stream",
     "text": [
      "[ 93 164  82  91  44]\n"
     ]
    }
   ],
   "source": [
    "n_trees = np.zeros_like(right)\n",
    "for n in range(len(right)):\n",
    "    k = 0\n",
    "    while k*down[n] < (len(data)-1):\n",
    "        n_trees[n] += data[k*down[n]][(right[n]*k)%periodicity] == '#'\n",
    "        k+=1\n",
    "\n",
    "print(n_trees)    \n"
   ]
  },
  {
   "cell_type": "code",
   "execution_count": 40,
   "metadata": {},
   "outputs": [
    {
     "name": "stdout",
     "output_type": "stream",
     "text": [
      "5007658656\n"
     ]
    }
   ],
   "source": [
    "answer = n_trees.prod()\n",
    "print(answer)"
   ]
  },
  {
   "cell_type": "markdown",
   "metadata": {},
   "source": [
    "## day 4\n",
    "\n",
    "https://adventofcode.com/2020/day/4"
   ]
  },
  {
   "cell_type": "code",
   "execution_count": 1,
   "metadata": {},
   "outputs": [],
   "source": [
    "import numpy as np"
   ]
  },
  {
   "cell_type": "code",
   "execution_count": 41,
   "metadata": {},
   "outputs": [],
   "source": [
    "text_file = open('input_04.txt','r')\n",
    "\n",
    "data = text_file.read()\n"
   ]
  },
  {
   "cell_type": "code",
   "execution_count": 42,
   "metadata": {},
   "outputs": [],
   "source": [
    "passports = data.split('\\n\\n')"
   ]
  },
  {
   "cell_type": "code",
   "execution_count": 4,
   "metadata": {},
   "outputs": [
    {
     "data": {
      "text/plain": [
       "'iyr:2015 cid:189 ecl:oth byr:1947 hcl:#6c4ab1 eyr:2026\\nhgt:174cm\\npid:526744288'"
      ]
     },
     "execution_count": 4,
     "metadata": {},
     "output_type": "execute_result"
    }
   ],
   "source": [
    "passports[0]"
   ]
  },
  {
   "cell_type": "code",
   "execution_count": 5,
   "metadata": {},
   "outputs": [],
   "source": [
    "fields_2_check = ['byr','iyr','eyr','hgt','hcl','ecl','pid'] # cid optional"
   ]
  },
  {
   "cell_type": "code",
   "execution_count": 13,
   "metadata": {},
   "outputs": [
    {
     "name": "stdout",
     "output_type": "stream",
     "text": [
      "264\n"
     ]
    }
   ],
   "source": [
    "n_valid = 0\n",
    "\n",
    "for pp in passports:\n",
    "    valid = True\n",
    "    for field in fields_2_check:\n",
    "        valid = valid & (field+':' in pp)\n",
    "    n_valid += valid\n",
    "print(n_valid)"
   ]
  },
  {
   "cell_type": "markdown",
   "metadata": {},
   "source": [
    "part 2"
   ]
  },
  {
   "cell_type": "code",
   "execution_count": 57,
   "metadata": {},
   "outputs": [],
   "source": [
    "import re"
   ]
  },
  {
   "cell_type": "code",
   "execution_count": 188,
   "metadata": {},
   "outputs": [],
   "source": [
    "passport_dicts = []\n",
    "for pp in passports:\n",
    "    pp_r = pp.replace('\\n',' ')\n",
    "    pp_r_s = pp.split()\n",
    "    \n",
    "    value_pairs = []\n",
    "    for s in pp_r_s:\n",
    "        value_pairs.append(s.split(':'))\n",
    "    passport_dicts.append(dict(value_pairs))"
   ]
  },
  {
   "cell_type": "code",
   "execution_count": 194,
   "metadata": {},
   "outputs": [
    {
     "data": {
      "text/plain": [
       "{'ecl': 'oth',\n",
       " 'hcl': '#733820',\n",
       " 'cid': '124',\n",
       " 'pid': '111220591',\n",
       " 'iyr': '2019',\n",
       " 'eyr': '2001',\n",
       " 'byr': '1933',\n",
       " 'hgt': '159in'}"
      ]
     },
     "execution_count": 194,
     "metadata": {},
     "output_type": "execute_result"
    }
   ],
   "source": [
    "passport_dicts[2]\n"
   ]
  },
  {
   "cell_type": "code",
   "execution_count": 220,
   "metadata": {},
   "outputs": [],
   "source": [
    "def check_byr(ppd):\n",
    "    key = 'byr'\n",
    "    \n",
    "    if key not in ppd.keys():\n",
    "        return False\n",
    "    else:     \n",
    "        \n",
    "        p = re.compile('^\\d{4}$')\n",
    "        n = p.match(ppd[key])\n",
    "\n",
    "        if bool(n):\n",
    "            x = int(ppd[key])\n",
    "            return (x >= 1920) & (x <= 2002)\n",
    "        else:\n",
    "            return False\n",
    "\n",
    "def check_iyr(ppd):\n",
    "    key = 'iyr'\n",
    "    \n",
    "    if key not in ppd.keys():\n",
    "        return False\n",
    "    else:     \n",
    "        \n",
    "        p = re.compile('^\\d{4}$')\n",
    "        n = p.match(ppd[key])\n",
    "       \n",
    "        if bool(n):\n",
    "            x = int(ppd[key])\n",
    "            return (x >= 2010) & (x <= 2020)\n",
    "        else:\n",
    "            return False\n",
    "        \n",
    "\n",
    "def check_eyr(ppd):\n",
    "    key = 'eyr'\n",
    "    \n",
    "    if key not in ppd.keys():\n",
    "        return False\n",
    "    else:     \n",
    "        \n",
    "        p = re.compile('^\\d{4}$')\n",
    "        n = p.match(ppd[key])\n",
    "    \n",
    "        if bool(n):\n",
    "            x = int(ppd[key])\n",
    "            return (x >= 2020) & (x <= 2030)\n",
    "        else:\n",
    "            return False\n",
    "        \n",
    "def check_hgt(ppd):\n",
    "    key = 'hgt'\n",
    "    \n",
    "    if key not in ppd.keys():\n",
    "        return False\n",
    "    else: \n",
    "        \n",
    "        p = re.compile('\\d*((cm)|(in))')\n",
    "        p2 = re.compile('\\d*')\n",
    "        n = p.match(ppd[key])\n",
    "        n2 = p2.match(ppd[key])\n",
    "\n",
    "        if bool(n):\n",
    "            x = int(n2.group())\n",
    "            if 'cm' in n.group():\n",
    "                return (x >= 150) & (x <= 193)\n",
    "            else:\n",
    "                return (x >= 59) & (x <= 76)\n",
    "        else:\n",
    "            return False\n",
    "        \n",
    "def check_hcl(ppd):\n",
    "    key = 'hcl'\n",
    "    \n",
    "    if key not in ppd.keys():\n",
    "        return False\n",
    "    else: \n",
    "        \n",
    "        p = re.compile('#(\\d|[a-f]){6}')\n",
    "        n = p.match(ppd[key])\n",
    "\n",
    "        return bool(n)\n",
    "    \n",
    "def check_ecl(ppd):\n",
    "    key = 'ecl'\n",
    "    \n",
    "    if key not in ppd.keys():\n",
    "        return False\n",
    "    else: \n",
    "        \n",
    "        p = re.compile('^((amb)|(blu)|(brn)|(gry)|(grn)|(hzl)|(oth))$')\n",
    "        n = p.match(ppd[key])\n",
    "\n",
    "        return bool(n)\n",
    "    \n",
    "def check_pid(ppd):\n",
    "    key = 'pid'\n",
    "    \n",
    "    if key not in ppd.keys():\n",
    "        return False\n",
    "    else: \n",
    "        \n",
    "        p = re.compile('^\\d{9}$')\n",
    "        n = p.match(ppd[key])\n",
    "\n",
    "        return bool(n)\n",
    "    \n",
    "check_all = [check_byr,check_iyr,check_eyr,check_hgt,check_hcl,check_ecl,check_pid]\n",
    "\n"
   ]
  },
  {
   "cell_type": "code",
   "execution_count": 221,
   "metadata": {},
   "outputs": [
    {
     "name": "stdout",
     "output_type": "stream",
     "text": [
      "224\n"
     ]
    }
   ],
   "source": [
    "n_valid = 0\n",
    "valid_v = []\n",
    "for ppd in passport_dicts:\n",
    "    valid = True\n",
    "    for check_fun in check_all:\n",
    "        valid = valid & check_fun(ppd)\n",
    "    n_valid += valid\n",
    "    valid_v.append(valid)\n",
    "print(n_valid)"
   ]
  },
  {
   "cell_type": "markdown",
   "metadata": {},
   "source": [
    "## day 5"
   ]
  },
  {
   "cell_type": "code",
   "execution_count": 1,
   "metadata": {},
   "outputs": [],
   "source": [
    "import numpy as np"
   ]
  },
  {
   "cell_type": "code",
   "execution_count": 4,
   "metadata": {},
   "outputs": [
    {
     "data": {
      "text/plain": [
       "''"
      ]
     },
     "execution_count": 4,
     "metadata": {},
     "output_type": "execute_result"
    }
   ],
   "source": [
    "text_file = open('input_05.txt','r')\n",
    "data = text_file.read()\n",
    "\n",
    "data_lines = data.split('\\n')\n",
    "data_lines.pop()"
   ]
  },
  {
   "cell_type": "code",
   "execution_count": 23,
   "metadata": {},
   "outputs": [],
   "source": [
    "rows = []\n",
    "columns = []\n",
    "seat_id = []\n",
    "\n",
    "for k,code in enumerate(data_lines):\n",
    "    row_s = code[0:7]\n",
    "    column_s = code[7::]\n",
    "    \n",
    "    row_s_bin = row_s.replace('F','0').replace('B','1')\n",
    "    column_s_bin = column_s.replace('L','0').replace('R','1')\n",
    "    \n",
    "    row_int = int(row_s_bin,2)\n",
    "    column_int = int(column_s_bin,2)\n",
    "    \n",
    "    rows.append(rows)\n",
    "    columns.append(column_int)\n",
    "    seat_id.append(row_int*8+column_int)"
   ]
  },
  {
   "cell_type": "code",
   "execution_count": 26,
   "metadata": {},
   "outputs": [
    {
     "name": "stdout",
     "output_type": "stream",
     "text": [
      "806\n"
     ]
    }
   ],
   "source": [
    "answer_1 = np.max(seat_id)\n",
    "print(answer_1)"
   ]
  },
  {
   "cell_type": "markdown",
   "metadata": {},
   "source": [
    "part 2"
   ]
  },
  {
   "cell_type": "code",
   "execution_count": null,
   "metadata": {},
   "outputs": [],
   "source": [
    "for k in range(answer_1):\n",
    "    if k+1 in seat_id and "
   ]
  },
  {
   "cell_type": "markdown",
   "metadata": {},
   "source": [
    "## day 6"
   ]
  },
  {
   "cell_type": "code",
   "execution_count": 1,
   "metadata": {},
   "outputs": [],
   "source": [
    "import numpy as np"
   ]
  },
  {
   "cell_type": "code",
   "execution_count": 2,
   "metadata": {},
   "outputs": [],
   "source": [
    "text_file = open('input_06.txt','r')\n",
    "data = text_file.read()\n",
    "groups = data.split('\\n\\n')"
   ]
  },
  {
   "cell_type": "code",
   "execution_count": 13,
   "metadata": {},
   "outputs": [
    {
     "name": "stdout",
     "output_type": "stream",
     "text": [
      "6782\n"
     ]
    }
   ],
   "source": [
    "n = 0\n",
    "\n",
    "for k in groups:\n",
    "    n+= len(set(k.replace('\\n','')))\n",
    "\n",
    "            \n",
    "print(n)"
   ]
  },
  {
   "cell_type": "markdown",
   "metadata": {},
   "source": [
    "part 2"
   ]
  },
  {
   "cell_type": "code",
   "execution_count": 14,
   "metadata": {},
   "outputs": [],
   "source": [
    "persons = []\n",
    "\n",
    "for group in groups:\n",
    "    persons.append(group.split('\\n'))"
   ]
  },
  {
   "cell_type": "code",
   "execution_count": 21,
   "metadata": {},
   "outputs": [
    {
     "data": {
      "text/plain": [
       "''"
      ]
     },
     "execution_count": 21,
     "metadata": {},
     "output_type": "execute_result"
    }
   ],
   "source": [
    "persons[-1].pop()"
   ]
  },
  {
   "cell_type": "code",
   "execution_count": 29,
   "metadata": {},
   "outputs": [],
   "source": [
    "persons_sets = []\n",
    "\n",
    "for group in persons:\n",
    "    group_sets = []\n",
    "    for person in group:\n",
    "        group_sets.append(set(person))\n",
    "    persons_sets.append(group_sets)"
   ]
  },
  {
   "cell_type": "code",
   "execution_count": null,
   "metadata": {},
   "outputs": [],
   "source": [
    "n = 0\n",
    "for ps in persons_sets:\n",
    "    n += len(set.intersection(*ps))\n",
    "print(n)"
   ]
  },
  {
   "cell_type": "markdown",
   "metadata": {},
   "source": [
    "## day 7"
   ]
  },
  {
   "cell_type": "code",
   "execution_count": 124,
   "metadata": {},
   "outputs": [],
   "source": [
    "import numpy as np\n",
    "import re\n",
    "import matplotlib.pyplot as plt"
   ]
  },
  {
   "cell_type": "code",
   "execution_count": 3,
   "metadata": {},
   "outputs": [],
   "source": [
    "text_file = open('input_07.txt','r')\n",
    "data = text_file.read()\n"
   ]
  },
  {
   "cell_type": "code",
   "execution_count": 7,
   "metadata": {},
   "outputs": [
    {
     "data": {
      "text/plain": [
       "''"
      ]
     },
     "execution_count": 7,
     "metadata": {},
     "output_type": "execute_result"
    }
   ],
   "source": [
    "lines = data.split('\\n')\n",
    "lines.pop()"
   ]
  },
  {
   "cell_type": "code",
   "execution_count": 16,
   "metadata": {},
   "outputs": [],
   "source": [
    "# get all bag colors\n",
    "bag_colors = []\n",
    "p = re.compile('[a-z]* [a-z]*')\n",
    "for line in lines:\n",
    "    n = p.match(line)\n",
    "    bag_colors.append(n.group())\n",
    "    "
   ]
  },
  {
   "cell_type": "code",
   "execution_count": 19,
   "metadata": {},
   "outputs": [
    {
     "data": {
      "text/plain": [
       "'vibrant cyan'"
      ]
     },
     "execution_count": 19,
     "metadata": {},
     "output_type": "execute_result"
    }
   ],
   "source": [
    "bag_colors[-1]"
   ]
  },
  {
   "cell_type": "code",
   "execution_count": 21,
   "metadata": {},
   "outputs": [],
   "source": [
    "bag_color_dicts ={}\n",
    "\n",
    "for k,line in enumerate(lines):\n",
    "    bag_color_dicts[bag_colors[k]] =  []\n",
    "    \n",
    "    for bag_color in bag_colors:\n",
    "        if (bag_color == bag_colors[k])| (bag_color not in line):\n",
    "            pass\n",
    "        else:\n",
    "            bag_color_dicts[bag_colors[k]].append(bag_color)"
   ]
  },
  {
   "cell_type": "code",
   "execution_count": 29,
   "metadata": {},
   "outputs": [
    {
     "data": {
      "text/plain": [
       "['dotted magenta', 'plaid brown', 'clear indigo', 'shiny beige']"
      ]
     },
     "execution_count": 29,
     "metadata": {},
     "output_type": "execute_result"
    }
   ],
   "source": [
    "bag_color_dicts['shiny gold']"
   ]
  },
  {
   "cell_type": "code",
   "execution_count": 36,
   "metadata": {},
   "outputs": [],
   "source": [
    "n = 0\n",
    "\n",
    "target = 'shiny gold'\n",
    "bag_color_target = {}\n",
    "for bc in bag_color_dicts.keys():\n",
    "    bag_color_target[bc] = target in bag_color_dicts[bc]"
   ]
  },
  {
   "cell_type": "code",
   "execution_count": 45,
   "metadata": {},
   "outputs": [],
   "source": [
    "n_before = 0\n",
    "n = sum(bag_color_target.values())\n",
    "\n",
    "while n != n_before:\n",
    "    n_before = n\n",
    "    for bc,content in bag_color_dicts.items():\n",
    "        for bag in content:\n",
    "            if bag_color_target[bag]:\n",
    "                bag_color_target[bc] = True\n",
    "    n = sum(bag_color_target.values())\n",
    "                "
   ]
  },
  {
   "cell_type": "code",
   "execution_count": 48,
   "metadata": {},
   "outputs": [
    {
     "name": "stdout",
     "output_type": "stream",
     "text": [
      "169\n"
     ]
    }
   ],
   "source": [
    "print(sum(bag_color_target.values()))"
   ]
  },
  {
   "cell_type": "markdown",
   "metadata": {},
   "source": [
    "part 2"
   ]
  },
  {
   "cell_type": "code",
   "execution_count": 57,
   "metadata": {},
   "outputs": [],
   "source": [
    "# matrix approach\n",
    "len(bag_colors)\n",
    "bag_m = np.zeros((len(bag_colors),len(bag_colors)))"
   ]
  },
  {
   "cell_type": "code",
   "execution_count": 66,
   "metadata": {},
   "outputs": [],
   "source": [
    "for k,bc_k in enumerate(bag_colors):\n",
    "    for m, bc_m in enumerate(bag_colors):\n",
    "        p = re.compile('\\d* '+bc_m)\n",
    "        n = p.search(lines[k])\n",
    "        \n",
    "        if n:        \n",
    "            p2 = re.compile('\\d*')\n",
    "            n2 = p2.match(n.group())\n",
    "\n",
    "            bag_m[k,m] = int(n2.group())"
   ]
  },
  {
   "cell_type": "code",
   "execution_count": 128,
   "metadata": {},
   "outputs": [],
   "source": [
    "sgi = bag_colors.index('shiny gold')"
   ]
  },
  {
   "cell_type": "code",
   "execution_count": 157,
   "metadata": {},
   "outputs": [],
   "source": [
    "mm = np.repeat(np.asmatrix(bag_m[sgi,:]),len(bag_m),axis =0)"
   ]
  },
  {
   "cell_type": "code",
   "execution_count": 160,
   "metadata": {},
   "outputs": [],
   "source": [
    "a= np.multiply(mm,bag_m)"
   ]
  },
  {
   "cell_type": "code",
   "execution_count": 218,
   "metadata": {},
   "outputs": [],
   "source": [
    "m_init = np.zeros_like(bag_m)\n",
    "m_init[sgi,:] = bag_m[sgi,:]"
   ]
  },
  {
   "cell_type": "code",
   "execution_count": 222,
   "metadata": {},
   "outputs": [
    {
     "name": "stdout",
     "output_type": "stream",
     "text": [
      "82372.0\n"
     ]
    }
   ],
   "source": [
    "a = range(20)\n",
    "b = [np.sum(m_init,axis = (0,1))]\n",
    "\n",
    "m_current = m_init\n",
    "while np.sum(m_current, axis = (0,1)):\n",
    "    \n",
    "    x = np.matmul(m_current,bag_m)\n",
    "    b.append(np.sum(x,axis = (0,1)))\n",
    "    m_current = x\n",
    "    \n",
    "print(sum(b))"
   ]
  },
  {
   "cell_type": "markdown",
   "metadata": {},
   "source": [
    "test scenario"
   ]
  },
  {
   "cell_type": "code",
   "execution_count": 203,
   "metadata": {},
   "outputs": [],
   "source": [
    "m_test = np.zeros((7,7))"
   ]
  },
  {
   "cell_type": "code",
   "execution_count": 205,
   "metadata": {},
   "outputs": [],
   "source": [
    "for k in range(6):\n",
    "    m_test[k,k+1]=2"
   ]
  },
  {
   "cell_type": "code",
   "execution_count": 209,
   "metadata": {},
   "outputs": [],
   "source": [
    "m_init_test= np.zeros_like(m_test)"
   ]
  },
  {
   "cell_type": "code",
   "execution_count": 210,
   "metadata": {},
   "outputs": [],
   "source": [
    "m_init_test[0,:] = m_test[0,:]"
   ]
  },
  {
   "cell_type": "code",
   "execution_count": 211,
   "metadata": {},
   "outputs": [],
   "source": [
    "\n",
    "b = []\n",
    "\n",
    "m_current = m_init_test\n",
    "for k in a:\n",
    "    \n",
    "    x = np.matmul(m_current,m_test)\n",
    "    b.append(np.sum(x,axis = (0,1)))\n",
    "    m_current = x"
   ]
  },
  {
   "cell_type": "code",
   "execution_count": 212,
   "metadata": {},
   "outputs": [
    {
     "data": {
      "text/plain": [
       "[4.0,\n",
       " 8.0,\n",
       " 16.0,\n",
       " 32.0,\n",
       " 64.0,\n",
       " 0.0,\n",
       " 0.0,\n",
       " 0.0,\n",
       " 0.0,\n",
       " 0.0,\n",
       " 0.0,\n",
       " 0.0,\n",
       " 0.0,\n",
       " 0.0,\n",
       " 0.0,\n",
       " 0.0,\n",
       " 0.0,\n",
       " 0.0,\n",
       " 0.0,\n",
       " 0.0]"
      ]
     },
     "execution_count": 212,
     "metadata": {},
     "output_type": "execute_result"
    }
   ],
   "source": [
    "b"
   ]
  },
  {
   "cell_type": "code",
   "execution_count": 214,
   "metadata": {},
   "outputs": [
    {
     "data": {
      "text/plain": [
       "124.0"
      ]
     },
     "execution_count": 214,
     "metadata": {},
     "output_type": "execute_result"
    }
   ],
   "source": [
    "sum(b)"
   ]
  },
  {
   "cell_type": "markdown",
   "metadata": {},
   "source": [
    "## day 8"
   ]
  },
  {
   "cell_type": "code",
   "execution_count": 1,
   "metadata": {},
   "outputs": [],
   "source": [
    "import numpy as np\n",
    "import pandas as pd\n"
   ]
  },
  {
   "cell_type": "code",
   "execution_count": 20,
   "metadata": {},
   "outputs": [],
   "source": [
    "data = pd.read_csv('input_08.txt',sep=' ',names = ['instruction','magnitude'])"
   ]
  },
  {
   "cell_type": "code",
   "execution_count": 21,
   "metadata": {},
   "outputs": [],
   "source": [
    "data['visited'] = False"
   ]
  },
  {
   "cell_type": "code",
   "execution_count": 22,
   "metadata": {},
   "outputs": [
    {
     "data": {
      "text/html": [
       "<div>\n",
       "<style scoped>\n",
       "    .dataframe tbody tr th:only-of-type {\n",
       "        vertical-align: middle;\n",
       "    }\n",
       "\n",
       "    .dataframe tbody tr th {\n",
       "        vertical-align: top;\n",
       "    }\n",
       "\n",
       "    .dataframe thead th {\n",
       "        text-align: right;\n",
       "    }\n",
       "</style>\n",
       "<table border=\"1\" class=\"dataframe\">\n",
       "  <thead>\n",
       "    <tr style=\"text-align: right;\">\n",
       "      <th></th>\n",
       "      <th>instruction</th>\n",
       "      <th>magnitude</th>\n",
       "      <th>visited</th>\n",
       "    </tr>\n",
       "  </thead>\n",
       "  <tbody>\n",
       "    <tr>\n",
       "      <th>0</th>\n",
       "      <td>acc</td>\n",
       "      <td>-8</td>\n",
       "      <td>False</td>\n",
       "    </tr>\n",
       "    <tr>\n",
       "      <th>1</th>\n",
       "      <td>jmp</td>\n",
       "      <td>5</td>\n",
       "      <td>False</td>\n",
       "    </tr>\n",
       "    <tr>\n",
       "      <th>2</th>\n",
       "      <td>acc</td>\n",
       "      <td>0</td>\n",
       "      <td>False</td>\n",
       "    </tr>\n",
       "    <tr>\n",
       "      <th>3</th>\n",
       "      <td>acc</td>\n",
       "      <td>44</td>\n",
       "      <td>False</td>\n",
       "    </tr>\n",
       "    <tr>\n",
       "      <th>4</th>\n",
       "      <td>acc</td>\n",
       "      <td>42</td>\n",
       "      <td>False</td>\n",
       "    </tr>\n",
       "  </tbody>\n",
       "</table>\n",
       "</div>"
      ],
      "text/plain": [
       "  instruction  magnitude  visited\n",
       "0         acc         -8    False\n",
       "1         jmp          5    False\n",
       "2         acc          0    False\n",
       "3         acc         44    False\n",
       "4         acc         42    False"
      ]
     },
     "execution_count": 22,
     "metadata": {},
     "output_type": "execute_result"
    }
   ],
   "source": [
    "data.head()"
   ]
  },
  {
   "cell_type": "code",
   "execution_count": 25,
   "metadata": {},
   "outputs": [
    {
     "name": "stdout",
     "output_type": "stream",
     "text": [
      "1928\n"
     ]
    }
   ],
   "source": [
    "data['visited'] = False\n",
    "accumulator = 0\n",
    "k = 0\n",
    "while not data.loc[k,'visited']:\n",
    "    data.loc[k,'visited'] = True\n",
    "    if data.loc[k,'instruction'] == 'acc':\n",
    "        accumulator += data.loc[k,'magnitude']\n",
    "        k += 1\n",
    "    elif data.loc[k,'instruction'] == 'jmp':\n",
    "        k += data.loc[k,'magnitude']\n",
    "    else:\n",
    "        k +=1\n",
    "\n",
    "print(accumulator)"
   ]
  },
  {
   "cell_type": "markdown",
   "metadata": {},
   "source": [
    "part 2"
   ]
  },
  {
   "cell_type": "code",
   "execution_count": 26,
   "metadata": {},
   "outputs": [
    {
     "data": {
      "text/html": [
       "<div>\n",
       "<style scoped>\n",
       "    .dataframe tbody tr th:only-of-type {\n",
       "        vertical-align: middle;\n",
       "    }\n",
       "\n",
       "    .dataframe tbody tr th {\n",
       "        vertical-align: top;\n",
       "    }\n",
       "\n",
       "    .dataframe thead th {\n",
       "        text-align: right;\n",
       "    }\n",
       "</style>\n",
       "<table border=\"1\" class=\"dataframe\">\n",
       "  <thead>\n",
       "    <tr style=\"text-align: right;\">\n",
       "      <th></th>\n",
       "      <th>instruction</th>\n",
       "      <th>magnitude</th>\n",
       "      <th>visited</th>\n",
       "    </tr>\n",
       "  </thead>\n",
       "  <tbody>\n",
       "    <tr>\n",
       "      <th>670</th>\n",
       "      <td>acc</td>\n",
       "      <td>50</td>\n",
       "      <td>False</td>\n",
       "    </tr>\n",
       "    <tr>\n",
       "      <th>671</th>\n",
       "      <td>acc</td>\n",
       "      <td>16</td>\n",
       "      <td>False</td>\n",
       "    </tr>\n",
       "    <tr>\n",
       "      <th>672</th>\n",
       "      <td>nop</td>\n",
       "      <td>-119</td>\n",
       "      <td>False</td>\n",
       "    </tr>\n",
       "    <tr>\n",
       "      <th>673</th>\n",
       "      <td>acc</td>\n",
       "      <td>46</td>\n",
       "      <td>False</td>\n",
       "    </tr>\n",
       "    <tr>\n",
       "      <th>674</th>\n",
       "      <td>jmp</td>\n",
       "      <td>1</td>\n",
       "      <td>False</td>\n",
       "    </tr>\n",
       "  </tbody>\n",
       "</table>\n",
       "</div>"
      ],
      "text/plain": [
       "    instruction  magnitude  visited\n",
       "670         acc         50    False\n",
       "671         acc         16    False\n",
       "672         nop       -119    False\n",
       "673         acc         46    False\n",
       "674         jmp          1    False"
      ]
     },
     "execution_count": 26,
     "metadata": {},
     "output_type": "execute_result"
    }
   ],
   "source": [
    "data.tail()"
   ]
  },
  {
   "cell_type": "code",
   "execution_count": null,
   "metadata": {},
   "outputs": [],
   "source": [
    "data['visited'] = False\n",
    "accumulator = 0\n",
    "k = 0"
   ]
  },
  {
   "cell_type": "code",
   "execution_count": 28,
   "metadata": {},
   "outputs": [
    {
     "data": {
      "text/plain": [
       "100"
      ]
     },
     "execution_count": 28,
     "metadata": {},
     "output_type": "execute_result"
    }
   ],
   "source": [
    "\n",
    "\n",
    "data[data['instruction']!= 'acc'].visited.sum()"
   ]
  },
  {
   "cell_type": "code",
   "execution_count": 31,
   "metadata": {},
   "outputs": [],
   "source": [
    "L = (data['instruction']!= 'acc')&(data['visited']==True)"
   ]
  },
  {
   "cell_type": "code",
   "execution_count": 47,
   "metadata": {},
   "outputs": [],
   "source": [
    "L_indices = np.where(L)[0]"
   ]
  },
  {
   "cell_type": "code",
   "execution_count": 60,
   "metadata": {},
   "outputs": [
    {
     "name": "stdout",
     "output_type": "stream",
     "text": [
      "1319\n"
     ]
    }
   ],
   "source": [
    "for changed in L_indices:\n",
    "    data_test = data.copy()\n",
    "    if data_test.loc[changed,'instruction'] == 'nop':\n",
    "        data_test.loc[changed, 'instruction'] = 'jmp'\n",
    "    else:\n",
    "        data_test.loc[changed, 'instruction'] = 'nop'    \n",
    "    \n",
    "    data_test['visited'] = False\n",
    "    accumulator = 0\n",
    "    k = 0\n",
    "    while not data_test.loc[k,'visited']:\n",
    "        data_test.loc[k,'visited'] = True\n",
    "        if data_test.loc[k,'instruction'] == 'acc':\n",
    "            accumulator += data_test.loc[k,'magnitude']\n",
    "            k += 1\n",
    "        elif data_test.loc[k,'instruction'] == 'jmp':\n",
    "            k += data_test.loc[k,'magnitude']\n",
    "        else:\n",
    "            k +=1\n",
    "        if k == len(data_test):\n",
    "            print(accumulator)\n",
    "            a = data_test.copy()\n",
    "            break\n",
    "\n"
   ]
  },
  {
   "cell_type": "code",
   "execution_count": 61,
   "metadata": {},
   "outputs": [
    {
     "data": {
      "text/html": [
       "<div>\n",
       "<style scoped>\n",
       "    .dataframe tbody tr th:only-of-type {\n",
       "        vertical-align: middle;\n",
       "    }\n",
       "\n",
       "    .dataframe tbody tr th {\n",
       "        vertical-align: top;\n",
       "    }\n",
       "\n",
       "    .dataframe thead th {\n",
       "        text-align: right;\n",
       "    }\n",
       "</style>\n",
       "<table border=\"1\" class=\"dataframe\">\n",
       "  <thead>\n",
       "    <tr style=\"text-align: right;\">\n",
       "      <th></th>\n",
       "      <th>instruction</th>\n",
       "      <th>magnitude</th>\n",
       "      <th>visited</th>\n",
       "    </tr>\n",
       "  </thead>\n",
       "  <tbody>\n",
       "    <tr>\n",
       "      <th>670</th>\n",
       "      <td>acc</td>\n",
       "      <td>50</td>\n",
       "      <td>True</td>\n",
       "    </tr>\n",
       "    <tr>\n",
       "      <th>671</th>\n",
       "      <td>acc</td>\n",
       "      <td>16</td>\n",
       "      <td>True</td>\n",
       "    </tr>\n",
       "    <tr>\n",
       "      <th>672</th>\n",
       "      <td>nop</td>\n",
       "      <td>-119</td>\n",
       "      <td>True</td>\n",
       "    </tr>\n",
       "    <tr>\n",
       "      <th>673</th>\n",
       "      <td>acc</td>\n",
       "      <td>46</td>\n",
       "      <td>True</td>\n",
       "    </tr>\n",
       "    <tr>\n",
       "      <th>674</th>\n",
       "      <td>jmp</td>\n",
       "      <td>1</td>\n",
       "      <td>True</td>\n",
       "    </tr>\n",
       "  </tbody>\n",
       "</table>\n",
       "</div>"
      ],
      "text/plain": [
       "    instruction  magnitude  visited\n",
       "670         acc         50     True\n",
       "671         acc         16     True\n",
       "672         nop       -119     True\n",
       "673         acc         46     True\n",
       "674         jmp          1     True"
      ]
     },
     "execution_count": 61,
     "metadata": {},
     "output_type": "execute_result"
    }
   ],
   "source": [
    "a.tail()"
   ]
  },
  {
   "cell_type": "code",
   "execution_count": null,
   "metadata": {},
   "outputs": [],
   "source": []
  }
 ],
 "metadata": {
  "kernelspec": {
   "display_name": "Python 3",
   "language": "python",
   "name": "python3"
  },
  "language_info": {
   "codemirror_mode": {
    "name": "ipython",
    "version": 3
   },
   "file_extension": ".py",
   "mimetype": "text/x-python",
   "name": "python",
   "nbconvert_exporter": "python",
   "pygments_lexer": "ipython3",
   "version": "3.7.3"
  }
 },
 "nbformat": 4,
 "nbformat_minor": 4
}
