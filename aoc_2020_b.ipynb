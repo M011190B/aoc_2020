{
 "cells": [
  {
   "cell_type": "markdown",
   "metadata": {},
   "source": [
    "# Advent of code 2020\n",
    "## puzzles 13 - 24"
   ]
  },
  {
   "cell_type": "markdown",
   "metadata": {},
   "source": [
    "## day 13"
   ]
  },
  {
   "cell_type": "code",
   "execution_count": 12,
   "metadata": {},
   "outputs": [],
   "source": [
    "import numpy as np\n",
    "import re"
   ]
  },
  {
   "cell_type": "code",
   "execution_count": 1,
   "metadata": {},
   "outputs": [],
   "source": [
    "with open('input_13.txt','r') as f:\n",
    "    data = f.read().split('\\n')"
   ]
  },
  {
   "cell_type": "code",
   "execution_count": 49,
   "metadata": {},
   "outputs": [],
   "source": [
    "t0 = int(data[0])"
   ]
  },
  {
   "cell_type": "code",
   "execution_count": 16,
   "metadata": {},
   "outputs": [],
   "source": [
    "IDs = np.array(data[1].split(','))"
   ]
  },
  {
   "cell_type": "code",
   "execution_count": 43,
   "metadata": {},
   "outputs": [],
   "source": [
    "ID_ints = []\n",
    "for ID in IDs:\n",
    "    try:\n",
    "        ID_ints.append(int(ID))\n",
    "    except:\n",
    "        pass\n",
    "    \n",
    "ID_ints = np.array(ID_ints)"
   ]
  },
  {
   "cell_type": "code",
   "execution_count": 57,
   "metadata": {},
   "outputs": [
    {
     "name": "stdout",
     "output_type": "stream",
     "text": [
      "[205]\n"
     ]
    }
   ],
   "source": [
    "found = False\n",
    "\n",
    "number2check = t0\n",
    "while not found:\n",
    "    L = number2check%ID_ints == 0 \n",
    "    if any(L):\n",
    "        found = True\n",
    "    else:\n",
    "        number2check += 1\n",
    "        \n",
    "print((number2check-t0)*ID_ints[L])"
   ]
  },
  {
   "cell_type": "markdown",
   "metadata": {},
   "source": [
    "part 2"
   ]
  },
  {
   "cell_type": "code",
   "execution_count": 71,
   "metadata": {},
   "outputs": [],
   "source": [
    "ID_ints = []\n",
    "for ID in IDs:\n",
    "    try:\n",
    "        ID_ints.append(int(ID))\n",
    "    except:\n",
    "        ID_ints.append(1)\n",
    "    \n",
    "ID_ints = np.array(ID_ints)"
   ]
  },
  {
   "cell_type": "code",
   "execution_count": 72,
   "metadata": {},
   "outputs": [
    {
     "data": {
      "text/plain": [
       "array([ 17,   1,   1,   1,   1,   1,   1,   1,   1,   1,   1,  37,   1,\n",
       "         1,   1,   1,   1, 439,   1,  29,   1,   1,   1,   1,   1,   1,\n",
       "         1,   1,   1,   1,  13,   1,   1,   1,   1,   1,   1,   1,   1,\n",
       "         1,  23,   1,   1,   1,   1,   1,   1,   1, 787,   1,   1,   1,\n",
       "         1,   1,   1,   1,   1,   1,  41,   1,   1,   1,   1,   1,   1,\n",
       "         1,   1,  19])"
      ]
     },
     "execution_count": 72,
     "metadata": {},
     "output_type": "execute_result"
    }
   ],
   "source": [
    "ID_ints"
   ]
  },
  {
   "cell_type": "code",
   "execution_count": 73,
   "metadata": {},
   "outputs": [],
   "source": [
    "offset = np.arange(len(ID_ints))"
   ]
  },
  {
   "cell_type": "code",
   "execution_count": 74,
   "metadata": {},
   "outputs": [],
   "source": [
    "L_1 = ID_ints != 1\n",
    "\n",
    "ID_ints_reduced = ID_ints[L_1]\n",
    "offset_reduced = offset[L_1]\n"
   ]
  },
  {
   "cell_type": "code",
   "execution_count": 77,
   "metadata": {},
   "outputs": [],
   "source": [
    "# this is later found to be irrelavent\n",
    "\n",
    "L_max = ID_ints_reduced == max(ID_ints_reduced)\n",
    "\n",
    "ID_max = max(ID_ints_reduced)\n",
    "\n",
    "offset_max = offset_reduced[L_max]"
   ]
  },
  {
   "cell_type": "code",
   "execution_count": 78,
   "metadata": {},
   "outputs": [],
   "source": [
    "#find t start\n",
    "\n",
    "# this is later found to be irrelavent\n",
    "found = False\n",
    "t_start = 100000000000000\n",
    "\n",
    "number2check = t_start\n",
    "while not found:\n",
    "    if (number2check+offset_max) % ID_max ==0 :\n",
    "        found = True\n",
    "        t_start_new = number2check\n",
    "    else:\n",
    "        number2check +=1\n"
   ]
  },
  {
   "cell_type": "code",
   "execution_count": 88,
   "metadata": {},
   "outputs": [
    {
     "name": "stdout",
     "output_type": "stream",
     "text": [
      "803025030761664\n",
      "found in 414 iterations\n"
     ]
    }
   ],
   "source": [
    "found  = False\n",
    "number2check = 0\n",
    "k = 0\n",
    "\n",
    "stepsize = 1\n",
    "\n",
    "n_matched = 1\n",
    "while not found:\n",
    "    L = (number2check+offset_reduced)%ID_ints_reduced == 0 \n",
    "    \n",
    "    # increase stepsize if found matching co\n",
    "    if L.sum() > n_matched:\n",
    "        stepsize = ID_ints_reduced[L].prod()\n",
    "    \n",
    "    if all(L):\n",
    "        found = True\n",
    "    else:\n",
    "        number2check += stepsize\n",
    "        k+=1\n",
    "        \n",
    "    if k % 1000000 ==0:\n",
    "        print(number2check)\n",
    "        \n",
    "        \n",
    "print('THnumber2check)\n",
    "print('found in %i iterations'%k)"
   ]
  },
  {
   "cell_type": "markdown",
   "metadata": {},
   "source": [
    "## day 14"
   ]
  },
  {
   "cell_type": "code",
   "execution_count": 86,
   "metadata": {},
   "outputs": [],
   "source": [
    "import numpy as np\n",
    "from bitstring import BitStream, BitArray\n",
    "import re"
   ]
  },
  {
   "cell_type": "code",
   "execution_count": 73,
   "metadata": {},
   "outputs": [],
   "source": [
    "with open('input_14.txt','r') as f:\n",
    "    data = f.read().split('\\n')\n",
    "    data.pop()"
   ]
  },
  {
   "cell_type": "code",
   "execution_count": 82,
   "metadata": {},
   "outputs": [],
   "source": [
    "mem_dict = {}\n",
    "for line in data:\n",
    "    variable, value = line.split(' = ')\n",
    "    \n",
    "    if variable == 'mask':\n",
    "        mask = value\n",
    "    else:\n",
    "        a = BitArray(uint=int(value), length=36)\n",
    "\n",
    "        value_new ='0b'\n",
    "\n",
    "        for k,letter in enumerate(mask):\n",
    "            if letter == 'X':\n",
    "                value_new += a.bin[k]\n",
    "            else:\n",
    "                value_new += letter\n",
    "        \n",
    "        mem_dict[variable] = int(value_new, base=2)\n",
    "        \n"
   ]
  },
  {
   "cell_type": "code",
   "execution_count": 85,
   "metadata": {},
   "outputs": [
    {
     "name": "stdout",
     "output_type": "stream",
     "text": [
      "5055782549997\n"
     ]
    }
   ],
   "source": [
    "print(sum(mem_dict.values()))"
   ]
  },
  {
   "cell_type": "markdown",
   "metadata": {},
   "source": [
    "part 2"
   ]
  },
  {
   "cell_type": "code",
   "execution_count": 152,
   "metadata": {},
   "outputs": [],
   "source": [
    "mem_dict = {}\n",
    "p = re.compile('\\d+')\n",
    "\n",
    "for line in data:\n",
    "    variable, value = line.split(' = ')\n",
    "    \n",
    "    if variable == 'mask':\n",
    "        mask = value\n",
    "    else:\n",
    "        n = p.search(variable)\n",
    "        address = int(n.group())\n",
    "        a = BitArray(uint=int(address), length=36)\n",
    "\n",
    "        address_new ='0b'\n",
    "\n",
    "        for k,letter in enumerate(mask):\n",
    "            if letter == '0':\n",
    "                address_new += a.bin[k]\n",
    "            else:\n",
    "                address_new += letter\n",
    "         \n",
    "        L = np.array(list(address_new)) == 'X'\n",
    "        \n",
    "        \n",
    "        for k in np.arange(2**L.sum()):\n",
    "            ad2add = np.array(list(address_new))\n",
    "            ad2add[L] = np.array(list(BitArray(uint=k, length=L.sum()).bin))\n",
    "            mem_dict[''.join(ad2add)] = int(value)\n",
    "        "
   ]
  },
  {
   "cell_type": "code",
   "execution_count": 154,
   "metadata": {},
   "outputs": [
    {
     "name": "stdout",
     "output_type": "stream",
     "text": [
      "4795970362286\n"
     ]
    }
   ],
   "source": [
    "print(sum(mem_dict.values()))"
   ]
  },
  {
   "cell_type": "markdown",
   "metadata": {},
   "source": [
    "## day 15"
   ]
  },
  {
   "cell_type": "code",
   "execution_count": 1,
   "metadata": {},
   "outputs": [],
   "source": [
    "import numpy as np"
   ]
  },
  {
   "cell_type": "code",
   "execution_count": 141,
   "metadata": {},
   "outputs": [],
   "source": [
    "puzzle_input = np.array([8,13,1,0,18,9])"
   ]
  },
  {
   "cell_type": "code",
   "execution_count": 142,
   "metadata": {},
   "outputs": [
    {
     "name": "stdout",
     "output_type": "stream",
     "text": [
      "11962\n"
     ]
    }
   ],
   "source": [
    "n = 30000000\n",
    "last_appearence = {}\n",
    "for k, value in enumerate(puzzle_input[:-1]):\n",
    "    last_appearence[value] = k\n",
    "\n",
    "last_number = puzzle_input[-1]\n",
    "\n",
    "for k in range(len(puzzle_input),n):\n",
    "    if last_number not in last_appearence.keys():\n",
    "        new_number = 0\n",
    "    else:        \n",
    "        new_number = k-last_appearence[last_number]-1\n",
    "                                       \n",
    "    last_appearence[last_number] = k-1\n",
    "    last_number = new_number\n",
    "    \n",
    "print(last_number)   "
   ]
  },
  {
   "cell_type": "markdown",
   "metadata": {},
   "source": [
    "## day 16"
   ]
  },
  {
   "cell_type": "code",
   "execution_count": 1,
   "metadata": {},
   "outputs": [],
   "source": [
    "import numpy as np"
   ]
  },
  {
   "cell_type": "code",
   "execution_count": 2,
   "metadata": {},
   "outputs": [],
   "source": [
    "with open('input_15.txt','r') as f:\n",
    "    data = f.read().split('\\n\\n')"
   ]
  },
  {
   "cell_type": "code",
   "execution_count": 5,
   "metadata": {},
   "outputs": [],
   "source": [
    "valid_ranges_strings = data[0].split('\\n')"
   ]
  },
  {
   "cell_type": "code",
   "execution_count": 16,
   "metadata": {},
   "outputs": [],
   "source": [
    "valid_ranges_dicts = {}\n",
    "\n",
    "for vrs in valid_ranges_strings:\n",
    "    split_1 = vrs.split(': ')\n",
    "    parameter = split_1[0]\n",
    "    split_2 =split_1[1].split(' or ')\n",
    "    limits = [] # [min0 max0 min1 max1]\n",
    "    \n",
    "    for s2 in split_2:\n",
    "        split_3 = s2.split('-')\n",
    "        for s3 in split_3:\n",
    "            limits.append(int(s3))\n",
    "    \n",
    "    valid_ranges_dicts[parameter] = limits\n",
    "    "
   ]
  },
  {
   "cell_type": "code",
   "execution_count": 23,
   "metadata": {},
   "outputs": [],
   "source": [
    "def get_valid(a , limits):\n",
    "    L = ((a >= limits[0]) & (a <= limits[1])) | ((a >= limits[2]) & (a <= limits[3]))\n",
    "    return L"
   ]
  },
  {
   "cell_type": "code",
   "execution_count": 32,
   "metadata": {},
   "outputs": [
    {
     "data": {
      "text/plain": [
       "True"
      ]
     },
     "execution_count": 32,
     "metadata": {},
     "output_type": "execute_result"
    }
   ],
   "source": [
    "get_valid(954,valid_ranges_dicts['departure location'])"
   ]
  },
  {
   "cell_type": "code",
   "execution_count": 36,
   "metadata": {},
   "outputs": [],
   "source": [
    "my_numbers_strings = data[1].split('\\n')[1].split(',')"
   ]
  },
  {
   "cell_type": "code",
   "execution_count": 40,
   "metadata": {},
   "outputs": [],
   "source": [
    "my_numbers_ints = np.array(my_numbers_strings,dtype ='i')"
   ]
  },
  {
   "cell_type": "code",
   "execution_count": 46,
   "metadata": {},
   "outputs": [],
   "source": [
    "nearby_tickets_strings = data[2].split('\\n')[1:-1]"
   ]
  },
  {
   "cell_type": "code",
   "execution_count": 52,
   "metadata": {},
   "outputs": [],
   "source": [
    "nearby_tickets_strings_sep = []\n",
    "for nts in nearby_tickets_strings:\n",
    "    nearby_tickets_strings_sep.append(nts.split(','))"
   ]
  },
  {
   "cell_type": "code",
   "execution_count": 54,
   "metadata": {},
   "outputs": [],
   "source": [
    "nearby_tickets_ints = np.array(nearby_tickets_strings_sep,dtype = 'i')"
   ]
  },
  {
   "cell_type": "code",
   "execution_count": 65,
   "metadata": {},
   "outputs": [],
   "source": [
    "L = np.zeros_like(nearby_tickets_ints,dtype = 'bool')"
   ]
  },
  {
   "cell_type": "code",
   "execution_count": 66,
   "metadata": {},
   "outputs": [
    {
     "data": {
      "text/plain": [
       "28873"
      ]
     },
     "execution_count": 66,
     "metadata": {},
     "output_type": "execute_result"
    }
   ],
   "source": [
    "for limit in valid_ranges_dicts.values():\n",
    "    L = L | get_valid(nearby_tickets_ints,limit)\n",
    "\n",
    "nearby_tickets_ints[~L].sum()"
   ]
  },
  {
   "cell_type": "markdown",
   "metadata": {},
   "source": [
    "part 2"
   ]
  },
  {
   "cell_type": "code",
   "execution_count": 76,
   "metadata": {},
   "outputs": [],
   "source": [
    "nearby_tickets_ints_2 = nearby_tickets_ints[L.all(axis=1),:]"
   ]
  },
  {
   "cell_type": "code",
   "execution_count": 79,
   "metadata": {},
   "outputs": [],
   "source": [
    "possible_rows = {}\n",
    "\n",
    "for column in range(nearby_tickets_ints_2.shape[1]):\n",
    "    possible_rows[column] = []\n",
    "    for param in valid_ranges_dicts.keys():\n",
    "        if all(get_valid(nearby_tickets_ints_2[:,column],valid_ranges_dicts[param])):\n",
    "            possible_rows[column].append(param)"
   ]
  },
  {
   "cell_type": "code",
   "execution_count": 84,
   "metadata": {},
   "outputs": [],
   "source": [
    "finished = False\n",
    "correct_order = {}\n",
    "for k in range(21):\n",
    "    for pr in possible_rows.keys():\n",
    "        if len(possible_rows[pr]) == 1 :\n",
    "            parameter2remove = possible_rows[pr][0]\n",
    "            correct_order[pr] = parameter2remove\n",
    "            \n",
    "            for pr2 in possible_rows.keys():\n",
    "                try:\n",
    "                    possible_rows[pr2].remove(parameter2remove)\n",
    "                except:\n",
    "                    pass"
   ]
  },
  {
   "cell_type": "code",
   "execution_count": 88,
   "metadata": {},
   "outputs": [
    {
     "name": "stdout",
     "output_type": "stream",
     "text": [
      "2587271823407\n"
     ]
    }
   ],
   "source": [
    "x = 1\n",
    "for key, value in correct_order.items():\n",
    "    if value[:9] == 'departure':\n",
    "        x = x*my_numbers_ints[key]\n",
    "print(x)"
   ]
  },
  {
   "cell_type": "markdown",
   "metadata": {},
   "source": [
    "## day 17"
   ]
  },
  {
   "cell_type": "code",
   "execution_count": 1,
   "metadata": {},
   "outputs": [],
   "source": [
    "import numpy as np"
   ]
  },
  {
   "cell_type": "code",
   "execution_count": 190,
   "metadata": {},
   "outputs": [],
   "source": [
    "with open('input_17.txt','r') as f:\n",
    "    data = f.read().split('\\n')\n",
    "    data.pop()"
   ]
  },
  {
   "cell_type": "code",
   "execution_count": 191,
   "metadata": {},
   "outputs": [],
   "source": [
    "data2 =[]\n",
    "for line in data: \n",
    "    data2.append(list(line.replace('.','0').replace('#','1')))\n",
    "\n",
    "data_init = np.array(data2,dtype = 'int')\n"
   ]
  },
  {
   "cell_type": "code",
   "execution_count": 181,
   "metadata": {},
   "outputs": [],
   "source": [
    "n_cycles =6\n",
    "\n",
    "initial_state = np.zeros((2*n_cycles+data_init.shape[0],2*n_cycles+data_init.shape[1],2*n_cycles+1),dtype = 'bool')"
   ]
  },
  {
   "cell_type": "code",
   "execution_count": 182,
   "metadata": {},
   "outputs": [],
   "source": [
    "initial_state[n_cycles:(n_cycles+data_init.shape[0]),n_cycles:(n_cycles+data_init.shape[1]),n_cycles] = data_init"
   ]
  },
  {
   "cell_type": "code",
   "execution_count": 183,
   "metadata": {},
   "outputs": [],
   "source": [
    "def get_n_active(state,x,y,z):\n",
    "    x_min = max(0,x-1)\n",
    "    x_max = min(state.shape[0],x+2)\n",
    "    y_min = max(0,y-1)\n",
    "    y_max = min(state.shape[0],y+2)\n",
    "    z_min = max(0,z-1)\n",
    "    z_max = min(state.shape[0],z+2)\n",
    "    \n",
    "    n_active = state[x_min:x_max,y_min:y_max,z_min:z_max].sum() -int(state[x,y,z])\n",
    "    return n_active"
   ]
  },
  {
   "cell_type": "code",
   "execution_count": 184,
   "metadata": {},
   "outputs": [
    {
     "data": {
      "text/plain": [
       "386"
      ]
     },
     "execution_count": 184,
     "metadata": {},
     "output_type": "execute_result"
    }
   ],
   "source": [
    "current_state = initial_state.copy()\n",
    "\n",
    "for k in range(n_cycles):\n",
    "    new_state = current_state.copy()\n",
    "    for x in range(current_state.shape[0]):\n",
    "        for y in range(current_state.shape[1]):\n",
    "            for z in range(current_state.shape[2]):\n",
    "                n_active = get_n_active(current_state,x,y,z)\n",
    "                if current_state[x,y,z] & (not ((n_active == 3) | (n_active == 2))):\n",
    "                    new_state[x,y,z] = False\n",
    "                if (not current_state[x,y,z]) & (n_active == 3):\n",
    "                    new_state[x,y,z] = True\n",
    "    current_state = new_state.copy()\n",
    "                        \n",
    "current_state.sum()          "
   ]
  },
  {
   "cell_type": "raw",
   "metadata": {},
   "source": [
    "part 2"
   ]
  },
  {
   "cell_type": "code",
   "execution_count": 192,
   "metadata": {},
   "outputs": [],
   "source": [
    "n_cycles =6\n",
    "\n",
    "initial_state = np.zeros((2*n_cycles+data_init.shape[0],2*n_cycles+data_init.shape[1],2*n_cycles+1,2*n_cycles+1),dtype = 'bool')\n",
    "initial_state[n_cycles:(n_cycles+data_init.shape[0]),n_cycles:(n_cycles+data_init.shape[1]),n_cycles,n_cycles] = data_init"
   ]
  },
  {
   "cell_type": "code",
   "execution_count": 193,
   "metadata": {},
   "outputs": [],
   "source": [
    "def get_n_active_2(state,x,y,z,w):\n",
    "    x_min = max(0,x-1)\n",
    "    x_max = min(state.shape[0],x+2)\n",
    "    y_min = max(0,y-1)\n",
    "    y_max = min(state.shape[0],y+2)\n",
    "    z_min = max(0,z-1)\n",
    "    z_max = min(state.shape[0],z+2)\n",
    "    w_min = max(0,w-1)\n",
    "    w_max = min(state.shape[0],w+2)\n",
    "    \n",
    "    n_active = state[x_min:x_max,y_min:y_max,z_min:z_max,w_min:w_max].sum() -int(state[x,y,z,w])\n",
    "    return n_active"
   ]
  },
  {
   "cell_type": "code",
   "execution_count": 194,
   "metadata": {},
   "outputs": [
    {
     "data": {
      "text/plain": [
       "2276"
      ]
     },
     "execution_count": 194,
     "metadata": {},
     "output_type": "execute_result"
    }
   ],
   "source": [
    "current_state = initial_state.copy()\n",
    "\n",
    "for k in range(n_cycles):\n",
    "    new_state = current_state.copy()\n",
    "    for x in range(current_state.shape[0]):\n",
    "        for y in range(current_state.shape[1]):\n",
    "            for z in range(current_state.shape[2]):\n",
    "                for w in range(current_state.shape[3]):\n",
    "                    n_active = get_n_active_2(current_state,x,y,z,w)\n",
    "                    if current_state[x,y,z,w] & (not ((n_active == 3) | (n_active == 2))):\n",
    "                        new_state[x,y,z,w] = False\n",
    "                    if (not current_state[x,y,z,w]) & (n_active == 3):\n",
    "                        new_state[x,y,z,w] = True\n",
    "    current_state = new_state.copy()\n",
    "                        \n",
    "current_state.sum()  "
   ]
  },
  {
   "cell_type": "code",
   "execution_count": null,
   "metadata": {},
   "outputs": [],
   "source": []
  }
 ],
 "metadata": {
  "kernelspec": {
   "display_name": "Python 3",
   "language": "python",
   "name": "python3"
  },
  "language_info": {
   "codemirror_mode": {
    "name": "ipython",
    "version": 3
   },
   "file_extension": ".py",
   "mimetype": "text/x-python",
   "name": "python",
   "nbconvert_exporter": "python",
   "pygments_lexer": "ipython3",
   "version": "3.7.3"
  }
 },
 "nbformat": 4,
 "nbformat_minor": 4
}
