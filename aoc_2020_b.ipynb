{
 "cells": [
  {
   "cell_type": "markdown",
   "metadata": {},
   "source": [
    "# Advent of code 2020\n",
    "## puzzles 13 - 24"
   ]
  },
  {
   "cell_type": "markdown",
   "metadata": {},
   "source": [
    "## day 13"
   ]
  },
  {
   "cell_type": "code",
   "execution_count": 12,
   "metadata": {},
   "outputs": [],
   "source": [
    "import numpy as np\n",
    "import re"
   ]
  },
  {
   "cell_type": "code",
   "execution_count": 1,
   "metadata": {},
   "outputs": [],
   "source": [
    "with open('input_13.txt','r') as f:\n",
    "    data = f.read().split('\\n')"
   ]
  },
  {
   "cell_type": "code",
   "execution_count": 49,
   "metadata": {},
   "outputs": [],
   "source": [
    "t0 = int(data[0])"
   ]
  },
  {
   "cell_type": "code",
   "execution_count": 16,
   "metadata": {},
   "outputs": [],
   "source": [
    "IDs = np.array(data[1].split(','))"
   ]
  },
  {
   "cell_type": "code",
   "execution_count": 43,
   "metadata": {},
   "outputs": [],
   "source": [
    "ID_ints = []\n",
    "for ID in IDs:\n",
    "    try:\n",
    "        ID_ints.append(int(ID))\n",
    "    except:\n",
    "        pass\n",
    "    \n",
    "ID_ints = np.array(ID_ints)"
   ]
  },
  {
   "cell_type": "code",
   "execution_count": 57,
   "metadata": {},
   "outputs": [
    {
     "name": "stdout",
     "output_type": "stream",
     "text": [
      "[205]\n"
     ]
    }
   ],
   "source": [
    "found = False\n",
    "\n",
    "number2check = t0\n",
    "while not found:\n",
    "    L = number2check%ID_ints == 0 \n",
    "    if any(L):\n",
    "        found = True\n",
    "    else:\n",
    "        number2check += 1\n",
    "        \n",
    "print((number2check-t0)*ID_ints[L])"
   ]
  },
  {
   "cell_type": "markdown",
   "metadata": {},
   "source": [
    "part 2"
   ]
  },
  {
   "cell_type": "code",
   "execution_count": 71,
   "metadata": {},
   "outputs": [],
   "source": [
    "ID_ints = []\n",
    "for ID in IDs:\n",
    "    try:\n",
    "        ID_ints.append(int(ID))\n",
    "    except:\n",
    "        ID_ints.append(1)\n",
    "    \n",
    "ID_ints = np.array(ID_ints)"
   ]
  },
  {
   "cell_type": "code",
   "execution_count": 72,
   "metadata": {},
   "outputs": [
    {
     "data": {
      "text/plain": [
       "array([ 17,   1,   1,   1,   1,   1,   1,   1,   1,   1,   1,  37,   1,\n",
       "         1,   1,   1,   1, 439,   1,  29,   1,   1,   1,   1,   1,   1,\n",
       "         1,   1,   1,   1,  13,   1,   1,   1,   1,   1,   1,   1,   1,\n",
       "         1,  23,   1,   1,   1,   1,   1,   1,   1, 787,   1,   1,   1,\n",
       "         1,   1,   1,   1,   1,   1,  41,   1,   1,   1,   1,   1,   1,\n",
       "         1,   1,  19])"
      ]
     },
     "execution_count": 72,
     "metadata": {},
     "output_type": "execute_result"
    }
   ],
   "source": [
    "ID_ints"
   ]
  },
  {
   "cell_type": "code",
   "execution_count": 73,
   "metadata": {},
   "outputs": [],
   "source": [
    "offset = np.arange(len(ID_ints))"
   ]
  },
  {
   "cell_type": "code",
   "execution_count": 74,
   "metadata": {},
   "outputs": [],
   "source": [
    "L_1 = ID_ints != 1\n",
    "\n",
    "ID_ints_reduced = ID_ints[L_1]\n",
    "offset_reduced = offset[L_1]\n"
   ]
  },
  {
   "cell_type": "code",
   "execution_count": 77,
   "metadata": {},
   "outputs": [],
   "source": [
    "# this is later found to be irrelavent\n",
    "\n",
    "L_max = ID_ints_reduced == max(ID_ints_reduced)\n",
    "\n",
    "ID_max = max(ID_ints_reduced)\n",
    "\n",
    "offset_max = offset_reduced[L_max]"
   ]
  },
  {
   "cell_type": "code",
   "execution_count": 78,
   "metadata": {},
   "outputs": [],
   "source": [
    "#find t start\n",
    "\n",
    "# this is later found to be irrelavent\n",
    "found = False\n",
    "t_start = 100000000000000\n",
    "\n",
    "number2check = t_start\n",
    "while not found:\n",
    "    if (number2check+offset_max) % ID_max ==0 :\n",
    "        found = True\n",
    "        t_start_new = number2check\n",
    "    else:\n",
    "        number2check +=1\n"
   ]
  },
  {
   "cell_type": "code",
   "execution_count": 88,
   "metadata": {},
   "outputs": [
    {
     "name": "stdout",
     "output_type": "stream",
     "text": [
      "803025030761664\n",
      "found in 414 iterations\n"
     ]
    }
   ],
   "source": [
    "found  = False\n",
    "number2check = 0\n",
    "k = 0\n",
    "\n",
    "stepsize = 1\n",
    "\n",
    "n_matched = 1\n",
    "while not found:\n",
    "    L = (number2check+offset_reduced)%ID_ints_reduced == 0 \n",
    "    \n",
    "    # increase stepsize if found matching co\n",
    "    if L.sum() > n_matched:\n",
    "        stepsize = ID_ints_reduced[L].prod()\n",
    "    \n",
    "    if all(L):\n",
    "        found = True\n",
    "    else:\n",
    "        number2check += stepsize\n",
    "        k+=1\n",
    "        \n",
    "    if k % 1000000 ==0:\n",
    "        print(number2check)\n",
    "        \n",
    "        \n",
    "print('THnumber2check)\n",
    "print('found in %i iterations'%k)"
   ]
  },
  {
   "cell_type": "markdown",
   "metadata": {},
   "source": [
    "## day 14"
   ]
  },
  {
   "cell_type": "code",
   "execution_count": 86,
   "metadata": {},
   "outputs": [],
   "source": [
    "import numpy as np\n",
    "from bitstring import BitStream, BitArray\n",
    "import re"
   ]
  },
  {
   "cell_type": "code",
   "execution_count": 73,
   "metadata": {},
   "outputs": [],
   "source": [
    "with open('input_14.txt','r') as f:\n",
    "    data = f.read().split('\\n')\n",
    "    data.pop()"
   ]
  },
  {
   "cell_type": "code",
   "execution_count": 82,
   "metadata": {},
   "outputs": [],
   "source": [
    "mem_dict = {}\n",
    "for line in data:\n",
    "    variable, value = line.split(' = ')\n",
    "    \n",
    "    if variable == 'mask':\n",
    "        mask = value\n",
    "    else:\n",
    "        a = BitArray(uint=int(value), length=36)\n",
    "\n",
    "        value_new ='0b'\n",
    "\n",
    "        for k,letter in enumerate(mask):\n",
    "            if letter == 'X':\n",
    "                value_new += a.bin[k]\n",
    "            else:\n",
    "                value_new += letter\n",
    "        \n",
    "        mem_dict[variable] = int(value_new, base=2)\n",
    "        \n"
   ]
  },
  {
   "cell_type": "code",
   "execution_count": 85,
   "metadata": {},
   "outputs": [
    {
     "name": "stdout",
     "output_type": "stream",
     "text": [
      "5055782549997\n"
     ]
    }
   ],
   "source": [
    "print(sum(mem_dict.values()))"
   ]
  },
  {
   "cell_type": "markdown",
   "metadata": {},
   "source": [
    "part 2"
   ]
  },
  {
   "cell_type": "code",
   "execution_count": 152,
   "metadata": {},
   "outputs": [],
   "source": [
    "mem_dict = {}\n",
    "p = re.compile('\\d+')\n",
    "\n",
    "for line in data:\n",
    "    variable, value = line.split(' = ')\n",
    "    \n",
    "    if variable == 'mask':\n",
    "        mask = value\n",
    "    else:\n",
    "        n = p.search(variable)\n",
    "        address = int(n.group())\n",
    "        a = BitArray(uint=int(address), length=36)\n",
    "\n",
    "        address_new ='0b'\n",
    "\n",
    "        for k,letter in enumerate(mask):\n",
    "            if letter == '0':\n",
    "                address_new += a.bin[k]\n",
    "            else:\n",
    "                address_new += letter\n",
    "         \n",
    "        L = np.array(list(address_new)) == 'X'\n",
    "        \n",
    "        \n",
    "        for k in np.arange(2**L.sum()):\n",
    "            ad2add = np.array(list(address_new))\n",
    "            ad2add[L] = np.array(list(BitArray(uint=k, length=L.sum()).bin))\n",
    "            mem_dict[''.join(ad2add)] = int(value)\n",
    "        "
   ]
  },
  {
   "cell_type": "code",
   "execution_count": 154,
   "metadata": {},
   "outputs": [
    {
     "name": "stdout",
     "output_type": "stream",
     "text": [
      "4795970362286\n"
     ]
    }
   ],
   "source": [
    "print(sum(mem_dict.values()))"
   ]
  },
  {
   "cell_type": "markdown",
   "metadata": {},
   "source": [
    "## day 15"
   ]
  },
  {
   "cell_type": "code",
   "execution_count": 1,
   "metadata": {},
   "outputs": [],
   "source": [
    "import numpy as np"
   ]
  },
  {
   "cell_type": "code",
   "execution_count": 141,
   "metadata": {},
   "outputs": [],
   "source": [
    "puzzle_input = np.array([8,13,1,0,18,9])"
   ]
  },
  {
   "cell_type": "code",
   "execution_count": 142,
   "metadata": {},
   "outputs": [
    {
     "name": "stdout",
     "output_type": "stream",
     "text": [
      "11962\n"
     ]
    }
   ],
   "source": [
    "n = 30000000\n",
    "last_appearence = {}\n",
    "for k, value in enumerate(puzzle_input[:-1]):\n",
    "    last_appearence[value] = k\n",
    "\n",
    "last_number = puzzle_input[-1]\n",
    "\n",
    "for k in range(len(puzzle_input),n):\n",
    "    if last_number not in last_appearence.keys():\n",
    "        new_number = 0\n",
    "    else:        \n",
    "        new_number = k-last_appearence[last_number]-1\n",
    "                                       \n",
    "    last_appearence[last_number] = k-1\n",
    "    last_number = new_number\n",
    "    \n",
    "print(last_number)   "
   ]
  },
  {
   "cell_type": "markdown",
   "metadata": {},
   "source": [
    "## day 16"
   ]
  },
  {
   "cell_type": "code",
   "execution_count": 1,
   "metadata": {},
   "outputs": [],
   "source": [
    "import numpy as np"
   ]
  },
  {
   "cell_type": "code",
   "execution_count": 2,
   "metadata": {},
   "outputs": [],
   "source": [
    "with open('input_15.txt','r') as f:\n",
    "    data = f.read().split('\\n\\n')"
   ]
  },
  {
   "cell_type": "code",
   "execution_count": 5,
   "metadata": {},
   "outputs": [],
   "source": [
    "valid_ranges_strings = data[0].split('\\n')"
   ]
  },
  {
   "cell_type": "code",
   "execution_count": 16,
   "metadata": {},
   "outputs": [],
   "source": [
    "valid_ranges_dicts = {}\n",
    "\n",
    "for vrs in valid_ranges_strings:\n",
    "    split_1 = vrs.split(': ')\n",
    "    parameter = split_1[0]\n",
    "    split_2 =split_1[1].split(' or ')\n",
    "    limits = [] # [min0 max0 min1 max1]\n",
    "    \n",
    "    for s2 in split_2:\n",
    "        split_3 = s2.split('-')\n",
    "        for s3 in split_3:\n",
    "            limits.append(int(s3))\n",
    "    \n",
    "    valid_ranges_dicts[parameter] = limits\n",
    "    "
   ]
  },
  {
   "cell_type": "code",
   "execution_count": 23,
   "metadata": {},
   "outputs": [],
   "source": [
    "def get_valid(a , limits):\n",
    "    L = ((a >= limits[0]) & (a <= limits[1])) | ((a >= limits[2]) & (a <= limits[3]))\n",
    "    return L"
   ]
  },
  {
   "cell_type": "code",
   "execution_count": 32,
   "metadata": {},
   "outputs": [
    {
     "data": {
      "text/plain": [
       "True"
      ]
     },
     "execution_count": 32,
     "metadata": {},
     "output_type": "execute_result"
    }
   ],
   "source": [
    "get_valid(954,valid_ranges_dicts['departure location'])"
   ]
  },
  {
   "cell_type": "code",
   "execution_count": 36,
   "metadata": {},
   "outputs": [],
   "source": [
    "my_numbers_strings = data[1].split('\\n')[1].split(',')"
   ]
  },
  {
   "cell_type": "code",
   "execution_count": 40,
   "metadata": {},
   "outputs": [],
   "source": [
    "my_numbers_ints = np.array(my_numbers_strings,dtype ='i')"
   ]
  },
  {
   "cell_type": "code",
   "execution_count": 46,
   "metadata": {},
   "outputs": [],
   "source": [
    "nearby_tickets_strings = data[2].split('\\n')[1:-1]"
   ]
  },
  {
   "cell_type": "code",
   "execution_count": 52,
   "metadata": {},
   "outputs": [],
   "source": [
    "nearby_tickets_strings_sep = []\n",
    "for nts in nearby_tickets_strings:\n",
    "    nearby_tickets_strings_sep.append(nts.split(','))"
   ]
  },
  {
   "cell_type": "code",
   "execution_count": 54,
   "metadata": {},
   "outputs": [],
   "source": [
    "nearby_tickets_ints = np.array(nearby_tickets_strings_sep,dtype = 'i')"
   ]
  },
  {
   "cell_type": "code",
   "execution_count": 65,
   "metadata": {},
   "outputs": [],
   "source": [
    "L = np.zeros_like(nearby_tickets_ints,dtype = 'bool')"
   ]
  },
  {
   "cell_type": "code",
   "execution_count": 66,
   "metadata": {},
   "outputs": [
    {
     "data": {
      "text/plain": [
       "28873"
      ]
     },
     "execution_count": 66,
     "metadata": {},
     "output_type": "execute_result"
    }
   ],
   "source": [
    "for limit in valid_ranges_dicts.values():\n",
    "    L = L | get_valid(nearby_tickets_ints,limit)\n",
    "\n",
    "nearby_tickets_ints[~L].sum()"
   ]
  },
  {
   "cell_type": "markdown",
   "metadata": {},
   "source": [
    "part 2"
   ]
  },
  {
   "cell_type": "code",
   "execution_count": 76,
   "metadata": {},
   "outputs": [],
   "source": [
    "nearby_tickets_ints_2 = nearby_tickets_ints[L.all(axis=1),:]"
   ]
  },
  {
   "cell_type": "code",
   "execution_count": 79,
   "metadata": {},
   "outputs": [],
   "source": [
    "possible_rows = {}\n",
    "\n",
    "for column in range(nearby_tickets_ints_2.shape[1]):\n",
    "    possible_rows[column] = []\n",
    "    for param in valid_ranges_dicts.keys():\n",
    "        if all(get_valid(nearby_tickets_ints_2[:,column],valid_ranges_dicts[param])):\n",
    "            possible_rows[column].append(param)"
   ]
  },
  {
   "cell_type": "code",
   "execution_count": 84,
   "metadata": {},
   "outputs": [],
   "source": [
    "finished = False\n",
    "correct_order = {}\n",
    "for k in range(21):\n",
    "    for pr in possible_rows.keys():\n",
    "        if len(possible_rows[pr]) == 1 :\n",
    "            parameter2remove = possible_rows[pr][0]\n",
    "            correct_order[pr] = parameter2remove\n",
    "            \n",
    "            for pr2 in possible_rows.keys():\n",
    "                try:\n",
    "                    possible_rows[pr2].remove(parameter2remove)\n",
    "                except:\n",
    "                    pass"
   ]
  },
  {
   "cell_type": "code",
   "execution_count": 88,
   "metadata": {},
   "outputs": [
    {
     "name": "stdout",
     "output_type": "stream",
     "text": [
      "2587271823407\n"
     ]
    }
   ],
   "source": [
    "x = 1\n",
    "for key, value in correct_order.items():\n",
    "    if value[:9] == 'departure':\n",
    "        x = x*my_numbers_ints[key]\n",
    "print(x)"
   ]
  },
  {
   "cell_type": "markdown",
   "metadata": {},
   "source": [
    "## day 17"
   ]
  },
  {
   "cell_type": "code",
   "execution_count": 1,
   "metadata": {},
   "outputs": [],
   "source": [
    "import numpy as np"
   ]
  },
  {
   "cell_type": "code",
   "execution_count": 190,
   "metadata": {},
   "outputs": [],
   "source": [
    "with open('input_17.txt','r') as f:\n",
    "    data = f.read().split('\\n')\n",
    "    data.pop()"
   ]
  },
  {
   "cell_type": "code",
   "execution_count": 191,
   "metadata": {},
   "outputs": [],
   "source": [
    "data2 =[]\n",
    "for line in data: \n",
    "    data2.append(list(line.replace('.','0').replace('#','1')))\n",
    "\n",
    "data_init = np.array(data2,dtype = 'int')\n"
   ]
  },
  {
   "cell_type": "code",
   "execution_count": 181,
   "metadata": {},
   "outputs": [],
   "source": [
    "n_cycles =6\n",
    "\n",
    "initial_state = np.zeros((2*n_cycles+data_init.shape[0],2*n_cycles+data_init.shape[1],2*n_cycles+1),dtype = 'bool')"
   ]
  },
  {
   "cell_type": "code",
   "execution_count": 182,
   "metadata": {},
   "outputs": [],
   "source": [
    "initial_state[n_cycles:(n_cycles+data_init.shape[0]),n_cycles:(n_cycles+data_init.shape[1]),n_cycles] = data_init"
   ]
  },
  {
   "cell_type": "code",
   "execution_count": 183,
   "metadata": {},
   "outputs": [],
   "source": [
    "def get_n_active(state,x,y,z):\n",
    "    x_min = max(0,x-1)\n",
    "    x_max = min(state.shape[0],x+2)\n",
    "    y_min = max(0,y-1)\n",
    "    y_max = min(state.shape[0],y+2)\n",
    "    z_min = max(0,z-1)\n",
    "    z_max = min(state.shape[0],z+2)\n",
    "    \n",
    "    n_active = state[x_min:x_max,y_min:y_max,z_min:z_max].sum() -int(state[x,y,z])\n",
    "    return n_active"
   ]
  },
  {
   "cell_type": "code",
   "execution_count": 184,
   "metadata": {},
   "outputs": [
    {
     "data": {
      "text/plain": [
       "386"
      ]
     },
     "execution_count": 184,
     "metadata": {},
     "output_type": "execute_result"
    }
   ],
   "source": [
    "current_state = initial_state.copy()\n",
    "\n",
    "for k in range(n_cycles):\n",
    "    new_state = current_state.copy()\n",
    "    for x in range(current_state.shape[0]):\n",
    "        for y in range(current_state.shape[1]):\n",
    "            for z in range(current_state.shape[2]):\n",
    "                n_active = get_n_active(current_state,x,y,z)\n",
    "                if current_state[x,y,z] & (not ((n_active == 3) | (n_active == 2))):\n",
    "                    new_state[x,y,z] = False\n",
    "                if (not current_state[x,y,z]) & (n_active == 3):\n",
    "                    new_state[x,y,z] = True\n",
    "    current_state = new_state.copy()\n",
    "                        \n",
    "current_state.sum()          "
   ]
  },
  {
   "cell_type": "raw",
   "metadata": {},
   "source": [
    "part 2"
   ]
  },
  {
   "cell_type": "code",
   "execution_count": 192,
   "metadata": {},
   "outputs": [],
   "source": [
    "n_cycles =6\n",
    "\n",
    "initial_state = np.zeros((2*n_cycles+data_init.shape[0],2*n_cycles+data_init.shape[1],2*n_cycles+1,2*n_cycles+1),dtype = 'bool')\n",
    "initial_state[n_cycles:(n_cycles+data_init.shape[0]),n_cycles:(n_cycles+data_init.shape[1]),n_cycles,n_cycles] = data_init"
   ]
  },
  {
   "cell_type": "code",
   "execution_count": 193,
   "metadata": {},
   "outputs": [],
   "source": [
    "def get_n_active_2(state,x,y,z,w):\n",
    "    x_min = max(0,x-1)\n",
    "    x_max = min(state.shape[0],x+2)\n",
    "    y_min = max(0,y-1)\n",
    "    y_max = min(state.shape[0],y+2)\n",
    "    z_min = max(0,z-1)\n",
    "    z_max = min(state.shape[0],z+2)\n",
    "    w_min = max(0,w-1)\n",
    "    w_max = min(state.shape[0],w+2)\n",
    "    \n",
    "    n_active = state[x_min:x_max,y_min:y_max,z_min:z_max,w_min:w_max].sum() -int(state[x,y,z,w])\n",
    "    return n_active"
   ]
  },
  {
   "cell_type": "code",
   "execution_count": 194,
   "metadata": {},
   "outputs": [
    {
     "data": {
      "text/plain": [
       "2276"
      ]
     },
     "execution_count": 194,
     "metadata": {},
     "output_type": "execute_result"
    }
   ],
   "source": [
    "current_state = initial_state.copy()\n",
    "\n",
    "for k in range(n_cycles):\n",
    "    new_state = current_state.copy()\n",
    "    for x in range(current_state.shape[0]):\n",
    "        for y in range(current_state.shape[1]):\n",
    "            for z in range(current_state.shape[2]):\n",
    "                for w in range(current_state.shape[3]):\n",
    "                    n_active = get_n_active_2(current_state,x,y,z,w)\n",
    "                    if current_state[x,y,z,w] & (not ((n_active == 3) | (n_active == 2))):\n",
    "                        new_state[x,y,z,w] = False\n",
    "                    if (not current_state[x,y,z,w]) & (n_active == 3):\n",
    "                        new_state[x,y,z,w] = True\n",
    "    current_state = new_state.copy()\n",
    "                        \n",
    "current_state.sum()  "
   ]
  },
  {
   "cell_type": "markdown",
   "metadata": {},
   "source": [
    "## day 18"
   ]
  },
  {
   "cell_type": "code",
   "execution_count": 71,
   "metadata": {},
   "outputs": [],
   "source": [
    "import numpy as np\n",
    "import re"
   ]
  },
  {
   "cell_type": "code",
   "execution_count": 72,
   "metadata": {},
   "outputs": [],
   "source": [
    "with open('input_18.txt','r') as f:\n",
    "    data = f.read().split('\\n')\n",
    "    data.pop()"
   ]
  },
  {
   "cell_type": "code",
   "execution_count": 6,
   "metadata": {},
   "outputs": [],
   "source": [
    "example = '((2 + 4 * 9) * (6 + 9 * 8 + 6) + 6) + 2 + 4 * 2'\n",
    "example = example.replace(' ','')"
   ]
  },
  {
   "cell_type": "code",
   "execution_count": 9,
   "metadata": {},
   "outputs": [],
   "source": [
    "def eval_string(s):\n",
    "    x = s.replace(' ','')\n",
    "\n",
    "    s1 = re.compile('\\d+').findall(x)\n",
    "    s2 = re.compile('\\+|\\*').findall(x)\n",
    "    current = int(s1[0])\n",
    "    numbers = s1[1:]\n",
    "    operators = s2\n",
    "    \n",
    "    for k in range(len(operators)):\n",
    "        if operators[k] == '+':\n",
    "            current += int(numbers[k])\n",
    "        elif operators[k] == '*':\n",
    "            current *= int(numbers[k])\n",
    "    return current\n",
    "        "
   ]
  },
  {
   "cell_type": "code",
   "execution_count": 209,
   "metadata": {},
   "outputs": [
    {
     "name": "stdout",
     "output_type": "stream",
     "text": [
      "202553439706\n"
     ]
    }
   ],
   "source": [
    "pattern = re.compile('\\((\\d+(\\+|\\*))+\\d+\\)')\n",
    "answer = 0\n",
    "for line in data:\n",
    "    example = line.replace(' ','')\n",
    "    \n",
    "    n = pattern.search(example)\n",
    "\n",
    "    while n:  \n",
    "        example = example.replace(n.group(),str(eval_string(n.group()[1:-1])),1)\n",
    "        n = pattern.search(example)\n",
    "\n",
    "    answer += eval_string(example)\n",
    "\n",
    "print(answer)"
   ]
  },
  {
   "cell_type": "markdown",
   "metadata": {},
   "source": [
    "part 2"
   ]
  },
  {
   "cell_type": "code",
   "execution_count": 76,
   "metadata": {},
   "outputs": [],
   "source": [
    "def eval_string_2(s):\n",
    "    x = s.replace(' ','')\n",
    "    \n",
    "    pattern = re.compile('\\d+\\+\\d+')\n",
    "    n = pattern.search(x)\n",
    "\n",
    "    while n:  \n",
    "        string_to_add = n.group()\n",
    "        \n",
    "        nums = re.compile('\\d+').findall(string_to_add)\n",
    "        x = x.replace(string_to_add,str(int(nums[0])+int(nums[1])), 1)\n",
    "        n = pattern.search(x)\n",
    "    \n",
    "    s1 = re.compile('\\d+').findall(x)\n",
    "    s2 = re.compile('\\+|\\*').findall(x)\n",
    "    current = int(s1[0])\n",
    "    numbers = s1[1:]\n",
    "    operators = s2\n",
    "    \n",
    "    for k in range(len(operators)):\n",
    "        if operators[k] == '+':\n",
    "            print('shit just happened')\n",
    "            current += int(numbers[k])\n",
    "        elif operators[k] == '*':\n",
    "            current *= int(numbers[k])\n",
    "    \n",
    "    \n",
    "    \n",
    "    return current"
   ]
  },
  {
   "cell_type": "code",
   "execution_count": 77,
   "metadata": {},
   "outputs": [
    {
     "name": "stdout",
     "output_type": "stream",
     "text": [
      "88534268715686\n"
     ]
    }
   ],
   "source": [
    "\n",
    "pattern = re.compile('\\((\\d+(\\+|\\*))+\\d+\\)')\n",
    "answer = 0\n",
    "x = []\n",
    "for line in data:\n",
    "    example = line.replace(' ','')   \n",
    "    n = pattern.search(example)\n",
    "\n",
    "    while n:  \n",
    "        example = example.replace(n.group(),str(eval_string_2(n.group()[1:-1])))\n",
    "        n = pattern.search(example)\n",
    "    answer += eval_string_2(example)\n",
    "    x.append(eval_string_2(example))\n",
    "print(answer)    \n"
   ]
  },
  {
   "cell_type": "markdown",
   "metadata": {},
   "source": [
    "## day 19"
   ]
  },
  {
   "cell_type": "code",
   "execution_count": 221,
   "metadata": {},
   "outputs": [],
   "source": [
    "import numpy as np\n",
    "import re"
   ]
  },
  {
   "cell_type": "code",
   "execution_count": 222,
   "metadata": {},
   "outputs": [],
   "source": [
    "with open('input_19.txt','r') as f:\n",
    "    data = f.read().split('\\n\\n')\n",
    "    "
   ]
  },
  {
   "cell_type": "code",
   "execution_count": 223,
   "metadata": {},
   "outputs": [
    {
     "data": {
      "text/plain": [
       "''"
      ]
     },
     "execution_count": 223,
     "metadata": {},
     "output_type": "execute_result"
    }
   ],
   "source": [
    "rules = {}\n",
    "\n",
    "for line in (data[0].split('\\n')):\n",
    "    rule = line.replace('\"','').split(': ')\n",
    "    if '|' in line:\n",
    "#         rules[rule[0]] = ['((',*rule[1].replace('|',')|(').split(' '),'))']\n",
    "        rules[rule[0]] = ['(',*rule[1].split(' '),')']\n",
    "    else:\n",
    "        rules[rule[0]] = rule[1].split(' ')\n",
    "\n",
    "messages = data[1].split('\\n')\n",
    "messages.pop()"
   ]
  },
  {
   "cell_type": "code",
   "execution_count": 165,
   "metadata": {},
   "outputs": [],
   "source": [
    "def search_rules(rules):\n",
    "\n",
    "    pattern2 = re.compile('\\d')\n",
    "    for key, value in rules.items():\n",
    "        if not pattern2.search(''.join(value)):\n",
    "            return (key,''.join(value))\n",
    "    \n"
   ]
  },
  {
   "cell_type": "code",
   "execution_count": 166,
   "metadata": {},
   "outputs": [],
   "source": [
    "def replace_rules(rules,k,s):\n",
    "    for key,value in rules.items():\n",
    "        rules[key] = [s if i==k else i for i in rules[key]]"
   ]
  },
  {
   "cell_type": "code",
   "execution_count": 167,
   "metadata": {},
   "outputs": [],
   "source": [
    "original_rules = rules.copy()\n",
    "clean_rules = {}\n",
    "# f =0\n",
    "# y = []\n",
    "while original_rules:\n",
    "    (k,s) = search_rules(original_rules)\n",
    "    replace_rules(original_rules,k,s)\n",
    "    clean_rules[k] = original_rules.pop(k)\n",
    "    \n"
   ]
  },
  {
   "cell_type": "code",
   "execution_count": 169,
   "metadata": {},
   "outputs": [
    {
     "data": {
      "text/plain": [
       "265"
      ]
     },
     "execution_count": 169,
     "metadata": {},
     "output_type": "execute_result"
    }
   ],
   "source": [
    "s = ''.join(clean_rules['0'])\n",
    "\n",
    "rule_0 = re.compile(s)\n",
    "x = 0\n",
    "for m in messages:\n",
    "    n = re.fullmatch(rule_0,m)\n",
    "    if n:\n",
    "        x += 1\n",
    "        \n",
    "x"
   ]
  },
  {
   "cell_type": "markdown",
   "metadata": {},
   "source": [
    "part 2"
   ]
  },
  {
   "cell_type": "code",
   "execution_count": 177,
   "metadata": {},
   "outputs": [],
   "source": [
    "import regex"
   ]
  },
  {
   "cell_type": "code",
   "execution_count": 289,
   "metadata": {},
   "outputs": [],
   "source": [
    "with open('input_19.txt','r') as f:\n",
    "    data = f.read().split('\\n\\n')\n",
    "    "
   ]
  },
  {
   "cell_type": "code",
   "execution_count": 299,
   "metadata": {},
   "outputs": [
    {
     "name": "stdout",
     "output_type": "stream",
     "text": [
      "31: (,121,88,|,96,119,)\n",
      "42: (,96,29,|,121,3,)\n",
      "9: (,121,123,|,96,103,)\n",
      "1: (,121,99,|,96,13,)\n"
     ]
    }
   ],
   "source": [
    "rules = {}\n",
    "\n",
    "for line in (data[0].split('\\n')):\n",
    "    rule = line.replace('\"','').split(': ')\n",
    "    \n",
    "    if '|' in line:\n",
    "#         rules[rule[0]] = ['((',*rule[1].replace('|',')|(').split(' '),'))']\n",
    "        rules[rule[0]] = ['(',*rule[1].split(' '),')']\n",
    "    else:\n",
    "        rules[rule[0]] = rule[1].split(' ')\n",
    "\n",
    "messages = data[1].split('\\n')\n",
    "messages.pop()\n",
    "#rules['11'] = ['(','42','42','31','31','|','42','31','|','42','42','42','31','31','31',')']\n",
    "rules['8'] = ['(','42',')','+']\n",
    "test = ['(','42','31']\n",
    "n_max = 30\n",
    "for k in range(2,n_max):\n",
    "    a =k*'42 '\n",
    "    b= k*'31 '\n",
    "    things2add = ['|',*a.split(),*b.split()]\n",
    "    test= test+ things2add\n",
    "test = test + [')']    \n",
    "rules['11'] = test\n",
    "\n",
    "\n",
    "noi = [31,42,9,1]\n",
    "for n in noi:\n",
    "    print(str(n)+': '+','.join(rules[str(n)]))"
   ]
  },
  {
   "cell_type": "code",
   "execution_count": 300,
   "metadata": {},
   "outputs": [],
   "source": [
    "original_rules = rules.copy()\n",
    "clean_rules = {}\n",
    "while original_rules:\n",
    "    (k,s) = search_rules(original_rules)\n",
    "    replace_rules(original_rules,k,s)\n",
    "    clean_rules[k] = ''.join(original_rules.pop(k))\n"
   ]
  },
  {
   "cell_type": "code",
   "execution_count": 301,
   "metadata": {},
   "outputs": [
    {
     "data": {
      "text/plain": [
       "394"
      ]
     },
     "execution_count": 301,
     "metadata": {},
     "output_type": "execute_result"
    }
   ],
   "source": [
    "rule_0 = re.compile(clean_rules['0'])\n",
    "x = 0\n",
    "for u,m in enumerate(messages):\n",
    "    n = re.fullmatch(rule_0,m)\n",
    "    if n:\n",
    "        x += 1\n",
    "        \n",
    "x"
   ]
  },
  {
   "cell_type": "markdown",
   "metadata": {},
   "source": [
    "## day 20"
   ]
  },
  {
   "cell_type": "code",
   "execution_count": 336,
   "metadata": {},
   "outputs": [],
   "source": [
    "import numpy as np"
   ]
  },
  {
   "cell_type": "code",
   "execution_count": 490,
   "metadata": {},
   "outputs": [
    {
     "data": {
      "text/plain": [
       "''"
      ]
     },
     "execution_count": 490,
     "metadata": {},
     "output_type": "execute_result"
    }
   ],
   "source": [
    "with open('input_20.txt','r') as f:\n",
    "    data = f.read().split('\\n\\n')\n",
    "data.pop()"
   ]
  },
  {
   "cell_type": "code",
   "execution_count": 492,
   "metadata": {},
   "outputs": [],
   "source": [
    "tiles_dict = {}\n",
    "for tile in data:\n",
    "    header , signal = tile.split(':\\n') \n",
    "    signal_list =[]\n",
    "    for signal_line in signal.split('\\n'):\n",
    "        signal_list.append(list(signal_line.replace('.','0').replace('#','1')))  \n",
    "    tiles_dict[int(header.split()[1])] = np.array(signal_list).astype('int')"
   ]
  },
  {
   "cell_type": "code",
   "execution_count": 493,
   "metadata": {},
   "outputs": [],
   "source": [
    "def get_edges(M):\n",
    "    e0 = M[0,:]\n",
    "    e1 = M[:,0]\n",
    "    e2 = M[-1,:]\n",
    "    e3 = M[:,-1]\n",
    "    e4 = np.flip(M[0,:])\n",
    "    e5 = np.flip(M[:,0])\n",
    "    e6 = np.flip(M[-1,:])\n",
    "    e7 = np.flip(M[:,-1])\n",
    "    edges = np.array([e0,e1,e2,e3,e4,e5,e6,e7])\n",
    "    return edges\n",
    "\n",
    "def match_edge(edge,M):\n",
    "    edges = get_edges(M)\n",
    "    L =(edge == edges).all(axis =1)\n",
    "    matching_edge = np.where(L)[0]\n",
    "    return matching_edge\n",
    "    "
   ]
  },
  {
   "cell_type": "code",
   "execution_count": 494,
   "metadata": {},
   "outputs": [],
   "source": [
    "matches_dict = {}\n",
    "\n",
    "for key, value in tiles_dict.items():\n",
    "    matches_dict[key] = [[],[],[]]\n",
    "    edges = get_edges(value)\n",
    "    for k in range(4):\n",
    "        for key2, value2 in tiles_dict.items():\n",
    "            if key != key2:\n",
    "                matching_edges = match_edge(edges[k,:],value2)\n",
    "                if matching_edges.size !=0:\n",
    "                    matches_dict[key][0].append(k)\n",
    "                    matches_dict[key][1].append(matching_edges)\n",
    "                    matches_dict[key][2].append(key2)\n",
    "            \n",
    "    "
   ]
  },
  {
   "cell_type": "code",
   "execution_count": 496,
   "metadata": {},
   "outputs": [
    {
     "name": "stdout",
     "output_type": "stream",
     "text": [
      "2351\n",
      "1433\n",
      "3229\n",
      "1699\n",
      "18482479935793\n"
     ]
    }
   ],
   "source": [
    "x = 1\n",
    "for y,k in matches_dict.items():\n",
    "    if len(k[2])==2:\n",
    "        print(y)\n",
    "        x*=y\n",
    "print(x)"
   ]
  },
  {
   "cell_type": "code",
   "execution_count": 485,
   "metadata": {},
   "outputs": [
    {
     "data": {
      "text/plain": [
       "[[0, 1, 3], [array([2]), array([3]), array([5])], [1427, 1951, 3079]]"
      ]
     },
     "execution_count": 485,
     "metadata": {},
     "output_type": "execute_result"
    }
   ],
   "source": [
    "matches_dict[2311]"
   ]
  },
  {
   "cell_type": "code",
   "execution_count": 441,
   "metadata": {},
   "outputs": [
    {
     "data": {
      "text/plain": [
       "array([], dtype=int64)"
      ]
     },
     "execution_count": 441,
     "metadata": {},
     "output_type": "execute_result"
    }
   ],
   "source": [
    "match_edge(get_egdes(tiles_dict[2311])[2,:],tiles_dict[3079])"
   ]
  },
  {
   "cell_type": "code",
   "execution_count": 440,
   "metadata": {},
   "outputs": [
    {
     "data": {
      "text/plain": [
       "{2311: array([[0, 0, 1, 1, 0, 1, 0, 0, 1, 0],\n",
       "        [1, 1, 0, 0, 1, 0, 0, 0, 0, 0],\n",
       "        [1, 0, 0, 0, 1, 1, 0, 0, 1, 0],\n",
       "        [1, 1, 1, 1, 0, 1, 0, 0, 0, 1],\n",
       "        [1, 1, 0, 1, 1, 0, 1, 1, 1, 0],\n",
       "        [1, 1, 0, 0, 0, 1, 0, 1, 1, 1],\n",
       "        [0, 1, 0, 1, 0, 1, 0, 0, 1, 1],\n",
       "        [0, 0, 1, 0, 0, 0, 0, 1, 0, 0],\n",
       "        [1, 1, 1, 0, 0, 0, 1, 0, 1, 0],\n",
       "        [0, 0, 1, 1, 1, 0, 0, 1, 1, 1]]),\n",
       " 1951: array([[1, 0, 1, 1, 0, 0, 0, 1, 1, 0],\n",
       "        [1, 0, 1, 1, 1, 1, 0, 0, 0, 1],\n",
       "        [0, 0, 0, 0, 0, 1, 0, 0, 1, 1],\n",
       "        [1, 0, 0, 0, 1, 1, 1, 1, 1, 1],\n",
       "        [0, 1, 1, 0, 1, 0, 0, 0, 0, 1],\n",
       "        [0, 1, 1, 1, 0, 1, 1, 1, 1, 1],\n",
       "        [1, 1, 1, 0, 1, 1, 0, 1, 1, 0],\n",
       "        [0, 1, 1, 1, 0, 0, 0, 0, 1, 0],\n",
       "        [0, 0, 1, 0, 1, 0, 0, 1, 0, 1],\n",
       "        [1, 0, 0, 0, 1, 1, 0, 1, 0, 0]]),\n",
       " 1171: array([[1, 1, 1, 1, 0, 0, 0, 1, 1, 0],\n",
       "        [1, 0, 0, 1, 1, 0, 1, 0, 0, 1],\n",
       "        [1, 1, 0, 1, 0, 0, 1, 0, 1, 0],\n",
       "        [0, 1, 1, 1, 0, 1, 1, 1, 1, 0],\n",
       "        [0, 0, 1, 1, 1, 0, 1, 1, 1, 1],\n",
       "        [0, 1, 1, 0, 0, 0, 0, 1, 1, 0],\n",
       "        [0, 1, 0, 0, 0, 1, 1, 1, 1, 0],\n",
       "        [1, 0, 1, 1, 0, 1, 1, 1, 1, 0],\n",
       "        [1, 1, 1, 1, 0, 0, 1, 0, 0, 0],\n",
       "        [0, 0, 0, 0, 0, 1, 1, 0, 0, 0]]),\n",
       " 1427: array([[1, 1, 1, 0, 1, 1, 0, 1, 0, 0],\n",
       "        [0, 1, 0, 0, 1, 0, 1, 1, 0, 0],\n",
       "        [0, 1, 0, 1, 1, 0, 1, 0, 0, 1],\n",
       "        [1, 0, 1, 0, 1, 0, 1, 1, 0, 1],\n",
       "        [0, 0, 0, 0, 1, 0, 0, 0, 1, 1],\n",
       "        [0, 0, 0, 1, 1, 0, 0, 1, 1, 0],\n",
       "        [0, 0, 0, 1, 0, 1, 1, 1, 1, 1],\n",
       "        [0, 1, 0, 1, 1, 1, 1, 0, 1, 0],\n",
       "        [0, 0, 1, 0, 0, 1, 1, 1, 0, 1],\n",
       "        [0, 0, 1, 1, 0, 1, 0, 0, 1, 0]]),\n",
       " 1489: array([[1, 1, 0, 1, 0, 1, 0, 0, 0, 0],\n",
       "        [0, 0, 1, 1, 0, 0, 0, 1, 0, 0],\n",
       "        [0, 1, 1, 0, 0, 1, 1, 0, 0, 0],\n",
       "        [0, 0, 1, 0, 0, 0, 1, 0, 0, 0],\n",
       "        [1, 1, 1, 1, 1, 0, 0, 0, 1, 0],\n",
       "        [1, 0, 0, 1, 0, 1, 0, 1, 0, 1],\n",
       "        [0, 0, 0, 1, 0, 1, 0, 1, 0, 0],\n",
       "        [1, 1, 0, 1, 0, 0, 0, 1, 1, 0],\n",
       "        [0, 0, 1, 1, 0, 1, 1, 0, 1, 1],\n",
       "        [1, 1, 1, 0, 1, 1, 0, 1, 0, 0]]),\n",
       " 2473: array([[1, 0, 0, 0, 0, 1, 1, 1, 1, 0],\n",
       "        [1, 0, 0, 1, 0, 1, 1, 0, 0, 0],\n",
       "        [1, 0, 1, 1, 0, 0, 1, 0, 0, 0],\n",
       "        [1, 1, 1, 1, 1, 1, 0, 1, 0, 1],\n",
       "        [0, 1, 0, 0, 0, 1, 0, 1, 0, 1],\n",
       "        [0, 1, 1, 1, 1, 1, 1, 1, 1, 1],\n",
       "        [0, 1, 1, 1, 0, 1, 0, 0, 1, 0],\n",
       "        [1, 1, 1, 1, 1, 1, 1, 1, 0, 1],\n",
       "        [1, 1, 0, 0, 0, 1, 1, 0, 1, 0],\n",
       "        [0, 0, 1, 1, 1, 0, 1, 0, 1, 0]]),\n",
       " 2971: array([[0, 0, 1, 0, 1, 0, 0, 0, 0, 1],\n",
       "        [1, 0, 0, 0, 1, 1, 1, 0, 0, 0],\n",
       "        [1, 0, 1, 0, 1, 1, 1, 0, 0, 0],\n",
       "        [1, 1, 0, 1, 1, 0, 0, 1, 0, 0],\n",
       "        [0, 1, 1, 1, 1, 1, 0, 0, 1, 1],\n",
       "        [0, 1, 0, 0, 1, 1, 1, 1, 0, 1],\n",
       "        [1, 0, 0, 1, 0, 1, 0, 0, 1, 0],\n",
       "        [0, 0, 1, 1, 1, 1, 0, 1, 1, 1],\n",
       "        [0, 0, 1, 0, 1, 0, 1, 1, 1, 0],\n",
       "        [0, 0, 0, 1, 0, 1, 0, 1, 0, 1]]),\n",
       " 2729: array([[0, 0, 0, 1, 0, 1, 0, 1, 0, 1],\n",
       "        [1, 1, 1, 1, 0, 1, 0, 0, 0, 0],\n",
       "        [0, 0, 1, 0, 1, 0, 0, 0, 0, 0],\n",
       "        [0, 0, 0, 0, 1, 0, 0, 1, 0, 1],\n",
       "        [0, 1, 1, 0, 0, 1, 1, 0, 1, 0],\n",
       "        [0, 1, 0, 1, 1, 1, 1, 0, 0, 0],\n",
       "        [1, 1, 1, 1, 0, 1, 0, 1, 0, 0],\n",
       "        [1, 1, 0, 1, 1, 1, 1, 0, 0, 0],\n",
       "        [1, 1, 0, 0, 1, 0, 1, 1, 0, 0],\n",
       "        [1, 0, 1, 1, 0, 0, 0, 1, 1, 0]]),\n",
       " 3079: array([[1, 0, 1, 0, 1, 1, 1, 1, 1, 0],\n",
       "        [0, 1, 0, 0, 1, 1, 1, 1, 1, 1],\n",
       "        [0, 0, 1, 0, 0, 0, 0, 0, 0, 0],\n",
       "        [1, 1, 1, 1, 1, 1, 0, 0, 0, 0],\n",
       "        [1, 1, 1, 1, 0, 1, 0, 0, 1, 0],\n",
       "        [0, 1, 0, 0, 0, 1, 0, 1, 1, 0],\n",
       "        [1, 0, 1, 1, 1, 1, 1, 0, 1, 1],\n",
       "        [0, 0, 1, 0, 1, 1, 1, 0, 0, 0],\n",
       "        [0, 0, 1, 0, 0, 0, 0, 0, 0, 0],\n",
       "        [0, 0, 1, 0, 1, 1, 1, 0, 0, 0]])}"
      ]
     },
     "execution_count": 440,
     "metadata": {},
     "output_type": "execute_result"
    }
   ],
   "source": [
    "tiles_dict"
   ]
  },
  {
   "cell_type": "code",
   "execution_count": 481,
   "metadata": {},
   "outputs": [
    {
     "data": {
      "text/plain": [
       "array([[1, 0, 1, 0, 1, 1, 1, 1, 1, 0],\n",
       "       [1, 0, 0, 1, 1, 0, 1, 0, 0, 0],\n",
       "       [0, 0, 1, 0, 1, 1, 1, 0, 0, 0],\n",
       "       [0, 1, 0, 0, 0, 0, 1, 0, 0, 0],\n",
       "       [0, 1, 1, 1, 1, 1, 0, 1, 0, 1],\n",
       "       [0, 0, 0, 1, 0, 1, 1, 0, 0, 1],\n",
       "       [0, 0, 0, 1, 1, 1, 0, 1, 0, 0],\n",
       "       [0, 0, 0, 1, 0, 0, 0, 0, 1, 0]])"
      ]
     },
     "execution_count": 481,
     "metadata": {},
     "output_type": "execute_result"
    }
   ],
   "source": [
    "get_edges(tiles_dict[3079])"
   ]
  },
  {
   "cell_type": "code",
   "execution_count": 479,
   "metadata": {},
   "outputs": [],
   "source": [
    "M = tiles_dict[3079]\n",
    "e0 = M[0,:]\n",
    "e1 = np.flip(M[:,0])\n",
    "e2 = M[-1,:]\n",
    "e3 = M[:,-1]\n",
    "edges = np.array([e0,e1,e2,e3])"
   ]
  },
  {
   "cell_type": "code",
   "execution_count": 480,
   "metadata": {},
   "outputs": [
    {
     "data": {
      "text/plain": [
       "array([[1, 0, 1, 0, 1, 1, 1, 1, 1, 0],\n",
       "       [0, 0, 0, 1, 0, 1, 1, 0, 0, 1],\n",
       "       [0, 0, 1, 0, 1, 1, 1, 0, 0, 0],\n",
       "       [0, 1, 0, 0, 0, 0, 1, 0, 0, 0]])"
      ]
     },
     "execution_count": 480,
     "metadata": {},
     "output_type": "execute_result"
    }
   ],
   "source": [
    "edges"
   ]
  },
  {
   "cell_type": "code",
   "execution_count": null,
   "metadata": {},
   "outputs": [],
   "source": []
  }
 ],
 "metadata": {
  "kernelspec": {
   "display_name": "Python 3",
   "language": "python",
   "name": "python3"
  },
  "language_info": {
   "codemirror_mode": {
    "name": "ipython",
    "version": 3
   },
   "file_extension": ".py",
   "mimetype": "text/x-python",
   "name": "python",
   "nbconvert_exporter": "python",
   "pygments_lexer": "ipython3",
   "version": "3.7.3"
  }
 },
 "nbformat": 4,
 "nbformat_minor": 4
}
