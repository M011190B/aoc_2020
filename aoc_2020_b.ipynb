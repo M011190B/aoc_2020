{
 "cells": [
  {
   "cell_type": "markdown",
   "metadata": {},
   "source": [
    "# Advent of code 2020\n",
    "## puzzles 13 - 24"
   ]
  },
  {
   "cell_type": "markdown",
   "metadata": {},
   "source": [
    "## day 13"
   ]
  },
  {
   "cell_type": "code",
   "execution_count": 12,
   "metadata": {},
   "outputs": [],
   "source": [
    "import numpy as np\n",
    "import re"
   ]
  },
  {
   "cell_type": "code",
   "execution_count": 1,
   "metadata": {},
   "outputs": [],
   "source": [
    "with open('input_13.txt','r') as f:\n",
    "    data = f.read().split('\\n')"
   ]
  },
  {
   "cell_type": "code",
   "execution_count": 49,
   "metadata": {},
   "outputs": [],
   "source": [
    "t0 = int(data[0])"
   ]
  },
  {
   "cell_type": "code",
   "execution_count": 16,
   "metadata": {},
   "outputs": [],
   "source": [
    "IDs = np.array(data[1].split(','))"
   ]
  },
  {
   "cell_type": "code",
   "execution_count": 43,
   "metadata": {},
   "outputs": [],
   "source": [
    "ID_ints = []\n",
    "for ID in IDs:\n",
    "    try:\n",
    "        ID_ints.append(int(ID))\n",
    "    except:\n",
    "        pass\n",
    "    \n",
    "ID_ints = np.array(ID_ints)"
   ]
  },
  {
   "cell_type": "code",
   "execution_count": 57,
   "metadata": {},
   "outputs": [
    {
     "name": "stdout",
     "output_type": "stream",
     "text": [
      "[205]\n"
     ]
    }
   ],
   "source": [
    "found = False\n",
    "\n",
    "number2check = t0\n",
    "while not found:\n",
    "    L = number2check%ID_ints == 0 \n",
    "    if any(L):\n",
    "        found = True\n",
    "    else:\n",
    "        number2check += 1\n",
    "        \n",
    "print((number2check-t0)*ID_ints[L])"
   ]
  },
  {
   "cell_type": "markdown",
   "metadata": {},
   "source": [
    "part 2"
   ]
  },
  {
   "cell_type": "code",
   "execution_count": 71,
   "metadata": {},
   "outputs": [],
   "source": [
    "ID_ints = []\n",
    "for ID in IDs:\n",
    "    try:\n",
    "        ID_ints.append(int(ID))\n",
    "    except:\n",
    "        ID_ints.append(1)\n",
    "    \n",
    "ID_ints = np.array(ID_ints)"
   ]
  },
  {
   "cell_type": "code",
   "execution_count": 72,
   "metadata": {},
   "outputs": [
    {
     "data": {
      "text/plain": [
       "array([ 17,   1,   1,   1,   1,   1,   1,   1,   1,   1,   1,  37,   1,\n",
       "         1,   1,   1,   1, 439,   1,  29,   1,   1,   1,   1,   1,   1,\n",
       "         1,   1,   1,   1,  13,   1,   1,   1,   1,   1,   1,   1,   1,\n",
       "         1,  23,   1,   1,   1,   1,   1,   1,   1, 787,   1,   1,   1,\n",
       "         1,   1,   1,   1,   1,   1,  41,   1,   1,   1,   1,   1,   1,\n",
       "         1,   1,  19])"
      ]
     },
     "execution_count": 72,
     "metadata": {},
     "output_type": "execute_result"
    }
   ],
   "source": [
    "ID_ints"
   ]
  },
  {
   "cell_type": "code",
   "execution_count": 73,
   "metadata": {},
   "outputs": [],
   "source": [
    "offset = np.arange(len(ID_ints))"
   ]
  },
  {
   "cell_type": "code",
   "execution_count": 74,
   "metadata": {},
   "outputs": [],
   "source": [
    "L_1 = ID_ints != 1\n",
    "\n",
    "ID_ints_reduced = ID_ints[L_1]\n",
    "offset_reduced = offset[L_1]\n"
   ]
  },
  {
   "cell_type": "code",
   "execution_count": 77,
   "metadata": {},
   "outputs": [],
   "source": [
    "# this is later found to be irrelavent\n",
    "\n",
    "L_max = ID_ints_reduced == max(ID_ints_reduced)\n",
    "\n",
    "ID_max = max(ID_ints_reduced)\n",
    "\n",
    "offset_max = offset_reduced[L_max]"
   ]
  },
  {
   "cell_type": "code",
   "execution_count": 78,
   "metadata": {},
   "outputs": [],
   "source": [
    "#find t start\n",
    "\n",
    "# this is later found to be irrelavent\n",
    "found = False\n",
    "t_start = 100000000000000\n",
    "\n",
    "number2check = t_start\n",
    "while not found:\n",
    "    if (number2check+offset_max) % ID_max ==0 :\n",
    "        found = True\n",
    "        t_start_new = number2check\n",
    "    else:\n",
    "        number2check +=1\n"
   ]
  },
  {
   "cell_type": "code",
   "execution_count": 88,
   "metadata": {},
   "outputs": [
    {
     "name": "stdout",
     "output_type": "stream",
     "text": [
      "803025030761664\n",
      "found in 414 iterations\n"
     ]
    }
   ],
   "source": [
    "found  = False\n",
    "number2check = 0\n",
    "k = 0\n",
    "\n",
    "stepsize = 1\n",
    "\n",
    "n_matched = 1\n",
    "while not found:\n",
    "    L = (number2check+offset_reduced)%ID_ints_reduced == 0 \n",
    "    \n",
    "    # increase stepsize if found matching co\n",
    "    if L.sum() > n_matched:\n",
    "        stepsize = ID_ints_reduced[L].prod()\n",
    "    \n",
    "    if all(L):\n",
    "        found = True\n",
    "    else:\n",
    "        number2check += stepsize\n",
    "        k+=1\n",
    "        \n",
    "    if k % 1000000 ==0:\n",
    "        print(number2check)\n",
    "        \n",
    "        \n",
    "print('THnumber2check)\n",
    "print('found in %i iterations'%k)"
   ]
  },
  {
   "cell_type": "markdown",
   "metadata": {},
   "source": [
    "## day 14"
   ]
  },
  {
   "cell_type": "code",
   "execution_count": 86,
   "metadata": {},
   "outputs": [],
   "source": [
    "import numpy as np\n",
    "from bitstring import BitStream, BitArray\n",
    "import re"
   ]
  },
  {
   "cell_type": "code",
   "execution_count": 73,
   "metadata": {},
   "outputs": [],
   "source": [
    "with open('input_14.txt','r') as f:\n",
    "    data = f.read().split('\\n')\n",
    "    data.pop()"
   ]
  },
  {
   "cell_type": "code",
   "execution_count": 82,
   "metadata": {},
   "outputs": [],
   "source": [
    "mem_dict = {}\n",
    "for line in data:\n",
    "    variable, value = line.split(' = ')\n",
    "    \n",
    "    if variable == 'mask':\n",
    "        mask = value\n",
    "    else:\n",
    "        a = BitArray(uint=int(value), length=36)\n",
    "\n",
    "        value_new ='0b'\n",
    "\n",
    "        for k,letter in enumerate(mask):\n",
    "            if letter == 'X':\n",
    "                value_new += a.bin[k]\n",
    "            else:\n",
    "                value_new += letter\n",
    "        \n",
    "        mem_dict[variable] = int(value_new, base=2)\n",
    "        \n"
   ]
  },
  {
   "cell_type": "code",
   "execution_count": 85,
   "metadata": {},
   "outputs": [
    {
     "name": "stdout",
     "output_type": "stream",
     "text": [
      "5055782549997\n"
     ]
    }
   ],
   "source": [
    "print(sum(mem_dict.values()))"
   ]
  },
  {
   "cell_type": "markdown",
   "metadata": {},
   "source": [
    "part 2"
   ]
  },
  {
   "cell_type": "code",
   "execution_count": 152,
   "metadata": {},
   "outputs": [],
   "source": [
    "mem_dict = {}\n",
    "p = re.compile('\\d+')\n",
    "\n",
    "for line in data:\n",
    "    variable, value = line.split(' = ')\n",
    "    \n",
    "    if variable == 'mask':\n",
    "        mask = value\n",
    "    else:\n",
    "        n = p.search(variable)\n",
    "        address = int(n.group())\n",
    "        a = BitArray(uint=int(address), length=36)\n",
    "\n",
    "        address_new ='0b'\n",
    "\n",
    "        for k,letter in enumerate(mask):\n",
    "            if letter == '0':\n",
    "                address_new += a.bin[k]\n",
    "            else:\n",
    "                address_new += letter\n",
    "         \n",
    "        L = np.array(list(address_new)) == 'X'\n",
    "        \n",
    "        \n",
    "        for k in np.arange(2**L.sum()):\n",
    "            ad2add = np.array(list(address_new))\n",
    "            ad2add[L] = np.array(list(BitArray(uint=k, length=L.sum()).bin))\n",
    "            mem_dict[''.join(ad2add)] = int(value)\n",
    "        "
   ]
  },
  {
   "cell_type": "code",
   "execution_count": 154,
   "metadata": {},
   "outputs": [
    {
     "name": "stdout",
     "output_type": "stream",
     "text": [
      "4795970362286\n"
     ]
    }
   ],
   "source": [
    "print(sum(mem_dict.values()))"
   ]
  },
  {
   "cell_type": "code",
   "execution_count": null,
   "metadata": {},
   "outputs": [],
   "source": []
  },
  {
   "cell_type": "code",
   "execution_count": null,
   "metadata": {},
   "outputs": [],
   "source": []
  }
 ],
 "metadata": {
  "kernelspec": {
   "display_name": "Python 3",
   "language": "python",
   "name": "python3"
  },
  "language_info": {
   "codemirror_mode": {
    "name": "ipython",
    "version": 3
   },
   "file_extension": ".py",
   "mimetype": "text/x-python",
   "name": "python",
   "nbconvert_exporter": "python",
   "pygments_lexer": "ipython3",
   "version": "3.7.3"
  }
 },
 "nbformat": 4,
 "nbformat_minor": 4
}
